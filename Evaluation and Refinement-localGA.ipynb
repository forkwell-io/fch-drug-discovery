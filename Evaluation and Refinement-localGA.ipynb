{
 "cells": [
  {
   "cell_type": "markdown",
   "metadata": {},
   "source": [
    "# Description\n",
    "\n",
    "This notebook is used to process and evalutate the initial universe of generated smiles, and then retain the network applying techniques and principles from both transfer learning and genetic algorithms to increasingly improve molecule generation for the specific task of binding with cornovirus protease."
   ]
  },
  {
   "cell_type": "markdown",
   "metadata": {},
   "source": [
    "## First process initial generated smiles for PyRx analysis "
   ]
  },
  {
   "cell_type": "code",
   "execution_count": 79,
   "metadata": {},
   "outputs": [],
   "source": [
    "import pandas as pd\n",
    "from rdkit import Chem, DataStructs\n",
    "from rdkit.Chem import Descriptors\n",
    "import random\n",
    "import numpy as np\n",
    "import rdkit.Chem.PropertyMol"
   ]
  },
  {
   "cell_type": "code",
   "execution_count": 80,
   "metadata": {
    "scrolled": true
   },
   "outputs": [
    {
     "data": {
      "text/plain": [
       "9703"
      ]
     },
     "execution_count": 80,
     "metadata": {},
     "output_type": "execute_result"
    }
   ],
   "source": [
    "# load gen0_smiles.smi as gen0_table\n",
    "# generation/gen0_smiles.smi\n",
    "gen0_table = pd.read_csv('./generations/gen0_smiles.smi',sep=',', header=None)\n",
    "gen0 = list(gen0_table[0])[0:10000]\n",
    "len(gen0)"
   ]
  },
  {
   "cell_type": "code",
   "execution_count": 81,
   "metadata": {},
   "outputs": [],
   "source": [
    "def validate_mols(list_of_smiles):\n",
    "    \"\"\"\n",
    "    :param list_of_smiles: python list of smiles\n",
    "    \"\"\"\n",
    "    valid_mols = []\n",
    "    for smi in list_of_smiles:\n",
    "        mol = Chem.MolFromSmiles(smi)\n",
    "        if mol is not None:\n",
    "            valid_mols.append(mol)\n",
    "    return valid_mols\n",
    "\n",
    "def convert_mols_to_smiles(list_of_mols):\n",
    "    valid_smiles = [Chem.MolToSmiles(mol) for mol in list_of_mols]\n",
    "    return valid_smiles"
   ]
  },
  {
   "cell_type": "code",
   "execution_count": 76,
   "metadata": {
    "scrolled": false
   },
   "outputs": [
    {
     "data": {
      "text/plain": [
       "9703"
      ]
     },
     "execution_count": 76,
     "metadata": {},
     "output_type": "execute_result"
    }
   ],
   "source": [
    "gen0_mols = validate_mols(gen0)\n",
    "len(gen0_mols)"
   ]
  },
  {
   "cell_type": "markdown",
   "metadata": {},
   "source": [
    "### Molecular Fingerprint\n",
    "Molecular fingerprints are a way of encoding the structure of a molecule. The most common type of fingerprint is a series of binary digits (bits) that represent the presence or absence of particular substructures in the molecule. Comparing fingerprints allows you to determine the similarity between two molecules, to find matches to a query substructure, etc.\n",
    "\n",
    "### Tanimoto Analysis\n",
    "One commonly used algorithm to calculate the similarity is the Tanimoto coefficient. In the Tanimoto Algorithm A and B are sets of fingerprint bits on in the fingerprints of molecule A and molecule B. AB is the set of common bits of fingerprints of both molecule A and B. The Tanimoto coefficient ranges from 0 when the fingerprints have no bits in common, to 1 when the fingerprints are identical."
   ]
  },
  {
   "cell_type": "code",
   "execution_count": 82,
   "metadata": {},
   "outputs": [],
   "source": [
    "def initialize_generation_from_mols(list_of_mols,desired_length): \n",
    "    '''\n",
    "    Intakes a list of smiles, randomly shuffles them, then adds first thirty,\n",
    "    then sets a max-similarity threshold between any new molecule and existing list\n",
    "    and iteratively increases the treshold until X components are picked to ensure diveristy\n",
    "    '''\n",
    "    assert desired_length >30\n",
    "    random.shuffle(list_of_mols)\n",
    "    random.shuffle(list_of_mols)\n",
    "    \n",
    "    # Prepare fingerprints for similarity calcs\n",
    "    mol_fingerprints = []\n",
    "    for mol in list_of_mols:\n",
    "        mol_fingerprints.append(Chem.RDKFingerprint(mol))\n",
    "    \n",
    "    selected_mols = list_of_mols[0:30]\n",
    "    selected_fingerprints = mol_fingerprints[0:30]\n",
    "    remaining_mols = list_of_mols[30:]\n",
    "    remaining_fingerprints = mol_fingerprints[30:]\n",
    "    \n",
    "    # Start with 0.05 as treshold\n",
    "    similarity_threshold = .05   \n",
    "    while len(selected_mols) < desired_length:\n",
    "        for fingerprint, mol in zip(remaining_fingerprints, remaining_mols):\n",
    "            max_similarity = np.max(DataStructs.BulkTanimotoSimilarity(fingerprint,selected_fingerprints))\n",
    "            if (max_similarity <= similarity_threshold) and (max_similarity < 1):\n",
    "                selected_fingerprints.append(fingerprint)\n",
    "                selected_mols.append(mol)\n",
    "        print(\"Completed loop with threshold at: \", similarity_threshold, \". Length is currently: \", len(selected_mols))\n",
    "        similarity_threshold += .05\n",
    "    return selected_mols"
   ]
  },
  {
   "cell_type": "code",
   "execution_count": 78,
   "metadata": {},
   "outputs": [
    {
     "name": "stdout",
     "output_type": "stream",
     "text": [
      "Completed loop with threshold at:  0.05 . Length is currently:  30\n",
      "Completed loop with threshold at:  0.1 . Length is currently:  31\n",
      "Completed loop with threshold at:  0.15000000000000002 . Length is currently:  32\n",
      "Completed loop with threshold at:  0.2 . Length is currently:  39\n",
      "Completed loop with threshold at:  0.25 . Length is currently:  80\n",
      "Completed loop with threshold at:  0.3 . Length is currently:  215\n",
      "Completed loop with threshold at:  0.35 . Length is currently:  521\n",
      "Completed loop with threshold at:  0.39999999999999997 . Length is currently:  1141\n"
     ]
    }
   ],
   "source": [
    "# Select 1000 molecule based on tanimota similarity\n",
    "\n",
    "gen0_mols = initialize_generation_from_mols(gen0_mols,1000)"
   ]
  },
  {
   "cell_type": "code",
   "execution_count": 7,
   "metadata": {},
   "outputs": [],
   "source": [
    "# Questions: Where is this master_results_table.csv comes from (maybe from nothing)\n",
    "# generations/master_results_table.csv\n",
    "\n",
    "master_table = pd.read_csv('./generations/master_results_table.csv',sep=',')"
   ]
  },
  {
   "cell_type": "code",
   "execution_count": 83,
   "metadata": {},
   "outputs": [
    {
     "data": {
      "text/plain": [
       "'AAAD'"
      ]
     },
     "execution_count": 83,
     "metadata": {},
     "output_type": "execute_result"
    }
   ],
   "source": [
    "def iterate_alpha(alpha_code):\n",
    "    '''\n",
    "    Certainly not opimized and not strictly necessary, but in the PyRx GUI\n",
    "    molecule names would sort oddly when in any numeric order, so ordering\n",
    "    molcules by a four letter code. This function iterates the four letter code.\n",
    "    '''\n",
    "    numbers = []\n",
    "    for letter in alpha_code:\n",
    "        number = ord(letter)\n",
    "        numbers.append(number)\n",
    "    \n",
    "    if numbers[3]+1 > 90:\n",
    "        if numbers[2]+1 > 90:\n",
    "            if numbers[1]+1 > 90:\n",
    "                if numbers[0]+1 > 90:\n",
    "                    raise ValueError('Too long for alpha code')\n",
    "                else:\n",
    "                    numbers[3] = 65\n",
    "                    numbers[2] = 65\n",
    "                    numbers[1] = 65\n",
    "                    numbers[0] = numbers[0] + 1\n",
    "            else:\n",
    "                numbers[3] = 65\n",
    "                numbers[2] = 65\n",
    "                numbers[1] = numbers[1] + 1\n",
    "        else:\n",
    "            numbers[3] = 65\n",
    "            numbers[2] = numbers[2] + 1\n",
    "    else:\n",
    "        numbers[3] = numbers[3] + 1\n",
    "    \n",
    "\n",
    "    new_code = \"\"\n",
    "    for number in numbers:\n",
    "        new_code += chr(number)\n",
    "    return new_code\n",
    "\n",
    "iterate_alpha('AAAC')"
   ]
  },
  {
   "cell_type": "code",
   "execution_count": 16,
   "metadata": {},
   "outputs": [
    {
     "data": {
      "text/html": [
       "<div>\n",
       "<style scoped>\n",
       "    .dataframe tbody tr th:only-of-type {\n",
       "        vertical-align: middle;\n",
       "    }\n",
       "\n",
       "    .dataframe tbody tr th {\n",
       "        vertical-align: top;\n",
       "    }\n",
       "\n",
       "    .dataframe thead th {\n",
       "        text-align: right;\n",
       "    }\n",
       "</style>\n",
       "<table border=\"1\" class=\"dataframe\">\n",
       "  <thead>\n",
       "    <tr style=\"text-align: right;\">\n",
       "      <th></th>\n",
       "      <th>id</th>\n",
       "      <th>gen</th>\n",
       "      <th>smile</th>\n",
       "      <th>source</th>\n",
       "      <th>score</th>\n",
       "    </tr>\n",
       "  </thead>\n",
       "  <tbody>\n",
       "    <tr>\n",
       "      <th>0</th>\n",
       "      <td>AAAC</td>\n",
       "      <td>0</td>\n",
       "      <td>CC(=O)Nc1ccc(S(=O)(=O)Nc2ccc(C)c(C)c2)cc1</td>\n",
       "      <td>training</td>\n",
       "      <td>99.9</td>\n",
       "    </tr>\n",
       "    <tr>\n",
       "      <th>1</th>\n",
       "      <td>AAAD</td>\n",
       "      <td>0</td>\n",
       "      <td>CCOC(=O)C1=C(C(=O)OCC)C(c2cccc(Cl)c2)NC(=O)N1</td>\n",
       "      <td>generated</td>\n",
       "      <td>99.9</td>\n",
       "    </tr>\n",
       "    <tr>\n",
       "      <th>2</th>\n",
       "      <td>AAAE</td>\n",
       "      <td>0</td>\n",
       "      <td>NC(=O)c1ccc(NC(=O)C(CC(=O)O)NC(=O)c2cc(-c3cccc...</td>\n",
       "      <td>generated</td>\n",
       "      <td>99.9</td>\n",
       "    </tr>\n",
       "    <tr>\n",
       "      <th>3</th>\n",
       "      <td>AAAF</td>\n",
       "      <td>0</td>\n",
       "      <td>COC(=O)c1ccc2c(c1)N(C(=O)c1ccc(C)cc1)CC(C)(C)O2</td>\n",
       "      <td>generated</td>\n",
       "      <td>99.9</td>\n",
       "    </tr>\n",
       "    <tr>\n",
       "      <th>4</th>\n",
       "      <td>AAAG</td>\n",
       "      <td>0</td>\n",
       "      <td>Cc1ccc(C(=O)Nc2ccc(C(=O)N3CCOCC3)cc2)cc1</td>\n",
       "      <td>training</td>\n",
       "      <td>99.9</td>\n",
       "    </tr>\n",
       "    <tr>\n",
       "      <th>...</th>\n",
       "      <td>...</td>\n",
       "      <td>...</td>\n",
       "      <td>...</td>\n",
       "      <td>...</td>\n",
       "      <td>...</td>\n",
       "    </tr>\n",
       "    <tr>\n",
       "      <th>2280</th>\n",
       "      <td>BBFT</td>\n",
       "      <td>0</td>\n",
       "      <td>CCCC1(CCc2ccccc2)CC(O)=C(C(CC)c2cccc(NS(=O)(=O...</td>\n",
       "      <td>manual</td>\n",
       "      <td>99.9</td>\n",
       "    </tr>\n",
       "    <tr>\n",
       "      <th>2281</th>\n",
       "      <td>BBFU</td>\n",
       "      <td>0</td>\n",
       "      <td>O=C1Nc2ccc(Cl)cc2C(C#CC2CC2)(C(F)(F)F)O1</td>\n",
       "      <td>manual</td>\n",
       "      <td>99.9</td>\n",
       "    </tr>\n",
       "    <tr>\n",
       "      <th>2282</th>\n",
       "      <td>BBFV</td>\n",
       "      <td>0</td>\n",
       "      <td>CC(C)(C)NC(=O)C1CN(Cc2cccnc2)CCN1CC(O)CC(Cc1cc...</td>\n",
       "      <td>manual</td>\n",
       "      <td>99.9</td>\n",
       "    </tr>\n",
       "    <tr>\n",
       "      <th>2283</th>\n",
       "      <td>BBFW</td>\n",
       "      <td>0</td>\n",
       "      <td>CCOP(=O)(COc1ccc(CC(NC(=O)OC2COC3OCCC23)C(O)CN...</td>\n",
       "      <td>manual</td>\n",
       "      <td>99.9</td>\n",
       "    </tr>\n",
       "    <tr>\n",
       "      <th>2284</th>\n",
       "      <td>BBFX</td>\n",
       "      <td>0</td>\n",
       "      <td>COC(=O)NC(C(=O)NCCCCC(CO)N(CC(C)C)S(=O)(=O)c1c...</td>\n",
       "      <td>manual</td>\n",
       "      <td>99.9</td>\n",
       "    </tr>\n",
       "  </tbody>\n",
       "</table>\n",
       "<p>2285 rows × 5 columns</p>\n",
       "</div>"
      ],
      "text/plain": [
       "        id  gen                                              smile     source  \\\n",
       "0     AAAC    0          CC(=O)Nc1ccc(S(=O)(=O)Nc2ccc(C)c(C)c2)cc1   training   \n",
       "1     AAAD    0      CCOC(=O)C1=C(C(=O)OCC)C(c2cccc(Cl)c2)NC(=O)N1  generated   \n",
       "2     AAAE    0  NC(=O)c1ccc(NC(=O)C(CC(=O)O)NC(=O)c2cc(-c3cccc...  generated   \n",
       "3     AAAF    0    COC(=O)c1ccc2c(c1)N(C(=O)c1ccc(C)cc1)CC(C)(C)O2  generated   \n",
       "4     AAAG    0           Cc1ccc(C(=O)Nc2ccc(C(=O)N3CCOCC3)cc2)cc1   training   \n",
       "...    ...  ...                                                ...        ...   \n",
       "2280  BBFT    0  CCCC1(CCc2ccccc2)CC(O)=C(C(CC)c2cccc(NS(=O)(=O...     manual   \n",
       "2281  BBFU    0           O=C1Nc2ccc(Cl)cc2C(C#CC2CC2)(C(F)(F)F)O1     manual   \n",
       "2282  BBFV    0  CC(C)(C)NC(=O)C1CN(Cc2cccnc2)CCN1CC(O)CC(Cc1cc...     manual   \n",
       "2283  BBFW    0  CCOP(=O)(COc1ccc(CC(NC(=O)OC2COC3OCCC23)C(O)CN...     manual   \n",
       "2284  BBFX    0  COC(=O)NC(C(=O)NCCCCC(CO)N(CC(C)C)S(=O)(=O)c1c...     manual   \n",
       "\n",
       "      score  \n",
       "0      99.9  \n",
       "1      99.9  \n",
       "2      99.9  \n",
       "3      99.9  \n",
       "4      99.9  \n",
       "...     ...  \n",
       "2280   99.9  \n",
       "2281   99.9  \n",
       "2282   99.9  \n",
       "2283   99.9  \n",
       "2284   99.9  \n",
       "\n",
       "[2285 rows x 5 columns]"
      ]
     },
     "execution_count": 16,
     "metadata": {},
     "output_type": "execute_result"
    }
   ],
   "source": [
    "master_table"
   ]
  },
  {
   "cell_type": "code",
   "execution_count": 84,
   "metadata": {},
   "outputs": [],
   "source": [
    "def append_to_tracking_table(master_table,mols_to_append, generation):\n",
    "    '''\n",
    "    This function is use to apend the mols to master table.\n",
    "    \n",
    "    :param master_table: pandas dataframe table\n",
    "    :param mols_to_append: molecule to append to the table\n",
    "    :generation: which generation of the genetic algorithm\n",
    "    \n",
    "    :return pandas.DataFrame of molecule, mols_to_export(type:sdkit)\n",
    "    '''\n",
    "    # Assign IDs for tracking to each mol, and assign a pandas table entry for each\n",
    "    mols_to_export = []\n",
    "    rows_list = []\n",
    "    \n",
    "    master_table_gen = master_table[master_table['gen'] == generation]\n",
    "    if master_table_gen.shape[0] == 0:\n",
    "        id_code = 'AAAA'\n",
    "    else:\n",
    "        master_table_gen_ids = master_table_gen.sort_values('id', ascending=True)\n",
    "        master_table_gen_max_id = master_table_gen_ids.tail(1)\n",
    "        key = master_table_gen_max_id['id'].keys()[0]\n",
    "        id_code = iterate_alpha(str(master_table_gen_max_id['id'][key])) # Call function iterate_alpha\n",
    "        \n",
    "    training_data = pd.read_csv('./datasets/all_smiles_clean.smi', header=None)\n",
    "    training_set = set(list(training_data[0]))\n",
    "    \n",
    "    for pair in mols_to_append:\n",
    "        mol = pair[0]\n",
    "        source = pair[1]\n",
    "        \n",
    "        pm = Chem.PropertyMol.PropertyMol(mol)\n",
    "        title = 'id' + str(id_code) + 'gen'+ str(generation)\n",
    "        # print(title)\n",
    "        \n",
    "        # Enables for tracking which molecule is which in PyRx GUI and PyRx results export\n",
    "        pm.SetProp('Title', title)\n",
    "        mols_to_export.append(pm)\n",
    "\n",
    "        #And track in pandas\n",
    "        mol_dict = {}\n",
    "        mol_dict['id'] = id_code\n",
    "        mol_dict['gen'] = generation\n",
    "        smile = Chem.MolToSmiles(mol)\n",
    "        assert type(smile) == type('string')\n",
    "        mol_dict['smile'] = smile\n",
    "\n",
    "        if (source!= 'hiv' and source != 'manual' and source != 'baseline') and (smile in training_set):\n",
    "            mol_dict['source'] = 'training'\n",
    "        else:\n",
    "            mol_dict['source'] = source\n",
    "        mol_dict['score'] = 99.9\n",
    "\n",
    "        rows_list.append(mol_dict)\n",
    "        id_code = iterate_alpha(id_code) # Call function iterate_alpha\n",
    "        \n",
    "    df = pd.DataFrame(rows_list)\n",
    "    return df, mols_to_export"
   ]
  },
  {
   "cell_type": "code",
   "execution_count": 168,
   "metadata": {},
   "outputs": [
    {
     "ename": "NameError",
     "evalue": "name 'gen0_mols' is not defined",
     "output_type": "error",
     "traceback": [
      "\u001b[1;31m---------------------------------------------------------------------------\u001b[0m",
      "\u001b[1;31mNameError\u001b[0m                                 Traceback (most recent call last)",
      "\u001b[1;32m<ipython-input-168-2bae028855c4>\u001b[0m in \u001b[0;36m<module>\u001b[1;34m\u001b[0m\n\u001b[1;32m----> 1\u001b[1;33m \u001b[0mnew_mols_to_test\u001b[0m \u001b[1;33m=\u001b[0m \u001b[0mappend_to_tracking_table\u001b[0m\u001b[1;33m(\u001b[0m\u001b[0mmaster_table\u001b[0m\u001b[1;33m,\u001b[0m\u001b[0mgen0_mols\u001b[0m\u001b[1;33m,\u001b[0m \u001b[1;34m'generated'\u001b[0m\u001b[1;33m,\u001b[0m \u001b[1;36m0\u001b[0m\u001b[1;33m)\u001b[0m\u001b[1;33m\u001b[0m\u001b[1;33m\u001b[0m\u001b[0m\n\u001b[0m\u001b[0;32m      2\u001b[0m \u001b[0mmols_for_pd\u001b[0m \u001b[1;33m=\u001b[0m \u001b[0mnew_mols_to_test\u001b[0m\u001b[1;33m[\u001b[0m\u001b[1;36m0\u001b[0m\u001b[1;33m]\u001b[0m\u001b[1;33m\u001b[0m\u001b[1;33m\u001b[0m\u001b[0m\n\u001b[0;32m      3\u001b[0m \u001b[0mmols_for_export\u001b[0m \u001b[1;33m=\u001b[0m \u001b[0mnew_mols_to_test\u001b[0m\u001b[1;33m[\u001b[0m\u001b[1;36m1\u001b[0m\u001b[1;33m]\u001b[0m\u001b[1;33m\u001b[0m\u001b[1;33m\u001b[0m\u001b[0m\n\u001b[0;32m      4\u001b[0m \u001b[0mmaster_table\u001b[0m \u001b[1;33m=\u001b[0m \u001b[0mmaster_table\u001b[0m\u001b[1;33m.\u001b[0m\u001b[0mappend\u001b[0m\u001b[1;33m(\u001b[0m\u001b[0mmols_for_pd\u001b[0m\u001b[1;33m)\u001b[0m\u001b[1;33m\u001b[0m\u001b[1;33m\u001b[0m\u001b[0m\n\u001b[0;32m      5\u001b[0m \u001b[0mlen\u001b[0m\u001b[1;33m(\u001b[0m\u001b[0mmols_for_export\u001b[0m\u001b[1;33m)\u001b[0m\u001b[1;33m\u001b[0m\u001b[1;33m\u001b[0m\u001b[0m\n",
      "\u001b[1;31mNameError\u001b[0m: name 'gen0_mols' is not defined"
     ]
    }
   ],
   "source": [
    "new_mols_to_test = append_to_tracking_table(master_table,gen0_mols, 'generated', 0)\n",
    "mols_for_pd = new_mols_to_test[0]\n",
    "mols_for_export = new_mols_to_test[1]\n",
    "master_table = master_table.append(mols_for_pd)\n",
    "len(mols_for_export)"
   ]
  },
  {
   "cell_type": "code",
   "execution_count": 19,
   "metadata": {},
   "outputs": [],
   "source": [
    "# dropping ALL duplicate values \n",
    "master_table.drop_duplicates(subset =\"smile\", keep = False, inplace = True) "
   ]
  },
  {
   "cell_type": "code",
   "execution_count": 20,
   "metadata": {},
   "outputs": [
    {
     "data": {
      "text/html": [
       "<div>\n",
       "<style scoped>\n",
       "    .dataframe tbody tr th:only-of-type {\n",
       "        vertical-align: middle;\n",
       "    }\n",
       "\n",
       "    .dataframe tbody tr th {\n",
       "        vertical-align: top;\n",
       "    }\n",
       "\n",
       "    .dataframe thead th {\n",
       "        text-align: right;\n",
       "    }\n",
       "</style>\n",
       "<table border=\"1\" class=\"dataframe\">\n",
       "  <thead>\n",
       "    <tr style=\"text-align: right;\">\n",
       "      <th></th>\n",
       "      <th>id</th>\n",
       "      <th>gen</th>\n",
       "      <th>smile</th>\n",
       "      <th>source</th>\n",
       "      <th>score</th>\n",
       "    </tr>\n",
       "  </thead>\n",
       "  <tbody>\n",
       "    <tr>\n",
       "      <th>0</th>\n",
       "      <td>AAAC</td>\n",
       "      <td>0</td>\n",
       "      <td>CC(=O)Nc1ccc(S(=O)(=O)Nc2ccc(C)c(C)c2)cc1</td>\n",
       "      <td>training</td>\n",
       "      <td>99.9</td>\n",
       "    </tr>\n",
       "    <tr>\n",
       "      <th>1</th>\n",
       "      <td>AAAD</td>\n",
       "      <td>0</td>\n",
       "      <td>CCOC(=O)C1=C(C(=O)OCC)C(c2cccc(Cl)c2)NC(=O)N1</td>\n",
       "      <td>generated</td>\n",
       "      <td>99.9</td>\n",
       "    </tr>\n",
       "    <tr>\n",
       "      <th>2</th>\n",
       "      <td>AAAE</td>\n",
       "      <td>0</td>\n",
       "      <td>NC(=O)c1ccc(NC(=O)C(CC(=O)O)NC(=O)c2cc(-c3cccc...</td>\n",
       "      <td>generated</td>\n",
       "      <td>99.9</td>\n",
       "    </tr>\n",
       "    <tr>\n",
       "      <th>3</th>\n",
       "      <td>AAAF</td>\n",
       "      <td>0</td>\n",
       "      <td>COC(=O)c1ccc2c(c1)N(C(=O)c1ccc(C)cc1)CC(C)(C)O2</td>\n",
       "      <td>generated</td>\n",
       "      <td>99.9</td>\n",
       "    </tr>\n",
       "    <tr>\n",
       "      <th>4</th>\n",
       "      <td>AAAG</td>\n",
       "      <td>0</td>\n",
       "      <td>Cc1ccc(C(=O)Nc2ccc(C(=O)N3CCOCC3)cc2)cc1</td>\n",
       "      <td>training</td>\n",
       "      <td>99.9</td>\n",
       "    </tr>\n",
       "    <tr>\n",
       "      <th>...</th>\n",
       "      <td>...</td>\n",
       "      <td>...</td>\n",
       "      <td>...</td>\n",
       "      <td>...</td>\n",
       "      <td>...</td>\n",
       "    </tr>\n",
       "    <tr>\n",
       "      <th>1113</th>\n",
       "      <td>BCWT</td>\n",
       "      <td>0</td>\n",
       "      <td>O=c1nc(N2CCOCC2)oc2cc3c(cc12)OCCO3</td>\n",
       "      <td>generated</td>\n",
       "      <td>99.9</td>\n",
       "    </tr>\n",
       "    <tr>\n",
       "      <th>1114</th>\n",
       "      <td>BCWU</td>\n",
       "      <td>0</td>\n",
       "      <td>Cc1ccc(-c2nc3ccccc3c3cc(C)ccc23)c(C)c1</td>\n",
       "      <td>generated</td>\n",
       "      <td>99.9</td>\n",
       "    </tr>\n",
       "    <tr>\n",
       "      <th>1115</th>\n",
       "      <td>BCWV</td>\n",
       "      <td>0</td>\n",
       "      <td>COc1ccc(C=Cc2nc(SCc3ccccc3)n[nH]2)cc1OC</td>\n",
       "      <td>generated</td>\n",
       "      <td>99.9</td>\n",
       "    </tr>\n",
       "    <tr>\n",
       "      <th>1117</th>\n",
       "      <td>BCWX</td>\n",
       "      <td>0</td>\n",
       "      <td>O=C(O)c1ccc2c(c1)[nH]c1ccc(NC(=O)c3ccccc3)cc12</td>\n",
       "      <td>generated</td>\n",
       "      <td>99.9</td>\n",
       "    </tr>\n",
       "    <tr>\n",
       "      <th>1118</th>\n",
       "      <td>BCWY</td>\n",
       "      <td>0</td>\n",
       "      <td>COCCOC(=O)N1CCC(S(=O)(=O)c2ccc(C)cc2)CC1</td>\n",
       "      <td>generated</td>\n",
       "      <td>99.9</td>\n",
       "    </tr>\n",
       "  </tbody>\n",
       "</table>\n",
       "<p>2626 rows × 5 columns</p>\n",
       "</div>"
      ],
      "text/plain": [
       "        id  gen                                              smile     source  \\\n",
       "0     AAAC    0          CC(=O)Nc1ccc(S(=O)(=O)Nc2ccc(C)c(C)c2)cc1   training   \n",
       "1     AAAD    0      CCOC(=O)C1=C(C(=O)OCC)C(c2cccc(Cl)c2)NC(=O)N1  generated   \n",
       "2     AAAE    0  NC(=O)c1ccc(NC(=O)C(CC(=O)O)NC(=O)c2cc(-c3cccc...  generated   \n",
       "3     AAAF    0    COC(=O)c1ccc2c(c1)N(C(=O)c1ccc(C)cc1)CC(C)(C)O2  generated   \n",
       "4     AAAG    0           Cc1ccc(C(=O)Nc2ccc(C(=O)N3CCOCC3)cc2)cc1   training   \n",
       "...    ...  ...                                                ...        ...   \n",
       "1113  BCWT    0                 O=c1nc(N2CCOCC2)oc2cc3c(cc12)OCCO3  generated   \n",
       "1114  BCWU    0             Cc1ccc(-c2nc3ccccc3c3cc(C)ccc23)c(C)c1  generated   \n",
       "1115  BCWV    0            COc1ccc(C=Cc2nc(SCc3ccccc3)n[nH]2)cc1OC  generated   \n",
       "1117  BCWX    0     O=C(O)c1ccc2c(c1)[nH]c1ccc(NC(=O)c3ccccc3)cc12  generated   \n",
       "1118  BCWY    0           COCCOC(=O)N1CCC(S(=O)(=O)c2ccc(C)cc2)CC1  generated   \n",
       "\n",
       "      score  \n",
       "0      99.9  \n",
       "1      99.9  \n",
       "2      99.9  \n",
       "3      99.9  \n",
       "4      99.9  \n",
       "...     ...  \n",
       "1113   99.9  \n",
       "1114   99.9  \n",
       "1115   99.9  \n",
       "1117   99.9  \n",
       "1118   99.9  \n",
       "\n",
       "[2626 rows x 5 columns]"
      ]
     },
     "execution_count": 20,
     "metadata": {},
     "output_type": "execute_result"
    }
   ],
   "source": [
    "master_table"
   ]
  },
  {
   "cell_type": "markdown",
   "metadata": {},
   "source": [
    "#### Append the results to master table.csv"
   ]
  },
  {
   "cell_type": "code",
   "execution_count": 14,
   "metadata": {},
   "outputs": [],
   "source": [
    "# Save the result to 'generations/master_results_table.csv'\n",
    "\n",
    "master_table = master_table.reset_index(drop=True)\n",
    "master_table.to_csv(r'./generations/master_results_table.csv', index=False)"
   ]
  },
  {
   "cell_type": "markdown",
   "metadata": {},
   "source": [
    "#### Manually Append HIV drug and few others drug to the master table"
   ]
  },
  {
   "cell_type": "code",
   "execution_count": 15,
   "metadata": {},
   "outputs": [],
   "source": [
    "# Add HIV inhibitors manually into the table\n",
    "hiv_smiles = pd.read_csv('./datasets/hiv_inhibitors_cleaned.smi',sep=',', header=None)\n",
    "hiv_smiles = list(hiv_smiles[0])\n",
    "hiv_mols = validate_mols(hiv_smiles)\n",
    "\n",
    "master_table = pd.read_csv('./generations/master_results_table.csv',sep=',')\n",
    "new_mols_to_test = append_to_tracking_table(master_table,hiv_mols, 'hiv', 0)\n",
    "mols_for_pd = new_mols_to_test[0]\n",
    "mols_for_export = mols_for_export + new_mols_to_test[1]\n",
    "\n",
    "master_table = master_table.append(mols_for_pd)\n",
    "master_table = master_table.reset_index(drop=True)\n",
    "master_table.to_csv(r'./generations/master_results_table.csv', index=False)"
   ]
  },
  {
   "cell_type": "code",
   "execution_count": 16,
   "metadata": {},
   "outputs": [],
   "source": [
    "# Add a few other smiles manually into the table (\"control group\" of training smiles)\n",
    "manual_smiles = pd.read_csv('./datasets/manual_testing_cleaned.smi',sep=',', header=None)\n",
    "manual_smiles = list(manual_smiles[0])\n",
    "manual_mols = validate_mols(hiv_smiles)\n",
    "\n",
    "master_table = pd.read_csv('./generations/master_results_table.csv',sep=',')\n",
    "new_mols_to_test = append_to_tracking_table(master_table,manual_mols, 'manual', 0)\n",
    "mols_for_pd = new_mols_to_test[0]\n",
    "mols_for_export = mols_for_export + new_mols_to_test[1]\n",
    "\n",
    "master_table = master_table.append(mols_for_pd)\n",
    "master_table = master_table.reset_index(drop=True)\n",
    "master_table.to_csv(r'./generations/master_results_table.csv', index=False)"
   ]
  },
  {
   "cell_type": "code",
   "execution_count": 85,
   "metadata": {},
   "outputs": [],
   "source": [
    "def write_gen_to_sdf(mols_for_export, generation, batch_size):\n",
    "    '''\n",
    "    Function to convert current generation of molecule to structure data files(SDF). To load in the PyRX to evaluate.\n",
    "    \n",
    "    :param mols_for_export: molecule to export (mol)\n",
    "    :param generation: generation of the Global GA\n",
    "    :param batch_size: maximum size of a single sdf files\n",
    "    \n",
    "    :return: ligands in sdf file format\n",
    "    \n",
    "    :output files: \n",
    "    If the incoming mol is more than batch size:\n",
    "        generations/gen(i)_batch_(i+1).sdf|\n",
    "    Else:\n",
    "        generations/gen(i).sdf\n",
    "    '''\n",
    "    if len(mols_for_export) > batch_size:\n",
    "        batches = (len(mols_for_export) // 1000)+1\n",
    "        for i in range(0,batches):\n",
    "            batch_to_export = mols_for_export[i*batch_size:(i+1)*batch_size]\n",
    "            w = Chem.SDWriter('./generations/gen' +str(generation) + '_batch_' + str(i+1) + '.sdf')\n",
    "            for m in batch_to_export: w.write(m)\n",
    "    else:\n",
    "        w = Chem.SDWriter('./generations/gen' +str(generation) + '.sdf')\n",
    "        for m in mols_for_export:\n",
    "            w.write(m)\n",
    "    \n",
    "    # Noticed an issue where the very last line item of an sdf write is not written correctly until another arbitary write is made\n",
    "    w = Chem.SDWriter('./generations/junk/test.sdf')\n",
    "    w.write(m)\n",
    "    \n",
    "    return mols_for_export"
   ]
  },
  {
   "cell_type": "code",
   "execution_count": 8,
   "metadata": {
    "scrolled": true
   },
   "outputs": [
    {
     "ename": "NameError",
     "evalue": "name 'mols_for_export' is not defined",
     "output_type": "error",
     "traceback": [
      "\u001b[1;31m---------------------------------------------------------------------------\u001b[0m",
      "\u001b[1;31mNameError\u001b[0m                                 Traceback (most recent call last)",
      "\u001b[1;32m<ipython-input-8-349a12ccef70>\u001b[0m in \u001b[0;36m<module>\u001b[1;34m\u001b[0m\n\u001b[1;32m----> 1\u001b[1;33m \u001b[0mwrite_gen_to_sdf\u001b[0m\u001b[1;33m(\u001b[0m\u001b[0mmols_for_export\u001b[0m\u001b[1;33m,\u001b[0m \u001b[1;36m0\u001b[0m\u001b[1;33m,\u001b[0m \u001b[1;36m2000\u001b[0m\u001b[1;33m)\u001b[0m\u001b[1;33m\u001b[0m\u001b[1;33m\u001b[0m\u001b[0m\n\u001b[0m\u001b[0;32m      2\u001b[0m \u001b[0mprint\u001b[0m\u001b[1;33m(\u001b[0m\u001b[1;34m'ok'\u001b[0m\u001b[1;33m)\u001b[0m\u001b[1;33m\u001b[0m\u001b[1;33m\u001b[0m\u001b[0m\n",
      "\u001b[1;31mNameError\u001b[0m: name 'mols_for_export' is not defined"
     ]
    }
   ],
   "source": [
    "write_gen_to_sdf(mols_for_export, 0, 2000)\n",
    "print('ok')"
   ]
  },
  {
   "cell_type": "markdown",
   "metadata": {},
   "source": [
    "## NOW GO TO PyRx: Analyze the SDF file and create a csv of binding score results (End of Generation 0)\n",
    "\n",
    "Saved the results in csv:\n",
    "\n",
    "generations/results/master_results_table_gen(i).csv"
   ]
  },
  {
   "cell_type": "markdown",
   "metadata": {},
   "source": [
    "\n",
    "## Afterwards, process binding simulation results to 'evolve' the molecules"
   ]
  },
  {
   "cell_type": "code",
   "execution_count": 86,
   "metadata": {},
   "outputs": [],
   "source": [
    "'''This number must be MANUALLY iterated each generation. I did not write the entire process into a smooth function or loop but that would be the next steps.''' \n",
    "GLOBAL_GENERATION = 11"
   ]
  },
  {
   "cell_type": "code",
   "execution_count": 87,
   "metadata": {
    "scrolled": false
   },
   "outputs": [
    {
     "data": {
      "text/html": [
       "<div>\n",
       "<style scoped>\n",
       "    .dataframe tbody tr th:only-of-type {\n",
       "        vertical-align: middle;\n",
       "    }\n",
       "\n",
       "    .dataframe tbody tr th {\n",
       "        vertical-align: top;\n",
       "    }\n",
       "\n",
       "    .dataframe thead th {\n",
       "        text-align: right;\n",
       "    }\n",
       "</style>\n",
       "<table border=\"1\" class=\"dataframe\">\n",
       "  <thead>\n",
       "    <tr style=\"text-align: right;\">\n",
       "      <th></th>\n",
       "      <th>id</th>\n",
       "      <th>gen</th>\n",
       "      <th>smile</th>\n",
       "      <th>source</th>\n",
       "      <th>weight</th>\n",
       "      <th>logp</th>\n",
       "      <th>score</th>\n",
       "    </tr>\n",
       "  </thead>\n",
       "  <tbody>\n",
       "    <tr>\n",
       "      <th>17051</th>\n",
       "      <td>ACQZ</td>\n",
       "      <td>10</td>\n",
       "      <td>Cc1ccc(-c2nnnn2C2=CC=NN=NN2c2ccc(C)c(=O)[nH]2)nn1</td>\n",
       "      <td>LSTM</td>\n",
       "      <td>NaN</td>\n",
       "      <td>NaN</td>\n",
       "      <td>99.9</td>\n",
       "    </tr>\n",
       "    <tr>\n",
       "      <th>17052</th>\n",
       "      <td>ACRA</td>\n",
       "      <td>10</td>\n",
       "      <td>CC1=CC=C(C(=O)Nc2ncnn2-c2ccc(-c3nnnn3-c3ccc(C)...</td>\n",
       "      <td>LSTM</td>\n",
       "      <td>NaN</td>\n",
       "      <td>NaN</td>\n",
       "      <td>99.9</td>\n",
       "    </tr>\n",
       "    <tr>\n",
       "      <th>17053</th>\n",
       "      <td>ACRB</td>\n",
       "      <td>10</td>\n",
       "      <td>Cc1ccc(-c2nnnn2C2=CC=C(C(=O)NC(=O)c3ccccc3C3=C...</td>\n",
       "      <td>LSTM</td>\n",
       "      <td>NaN</td>\n",
       "      <td>NaN</td>\n",
       "      <td>99.9</td>\n",
       "    </tr>\n",
       "    <tr>\n",
       "      <th>17054</th>\n",
       "      <td>ACRC</td>\n",
       "      <td>10</td>\n",
       "      <td>Cc1ccc(-c2nnnn2-c2ccc(-c3nnn[nH]3)cc2-c2ccc(-c...</td>\n",
       "      <td>LSTM</td>\n",
       "      <td>NaN</td>\n",
       "      <td>NaN</td>\n",
       "      <td>99.9</td>\n",
       "    </tr>\n",
       "    <tr>\n",
       "      <th>17055</th>\n",
       "      <td>ACRD</td>\n",
       "      <td>10</td>\n",
       "      <td>COC1=CC=C(c2nnnn2C2=CC=C(c3nnnn3C3=CC=C4C=CC=C...</td>\n",
       "      <td>LSTM</td>\n",
       "      <td>NaN</td>\n",
       "      <td>NaN</td>\n",
       "      <td>99.9</td>\n",
       "    </tr>\n",
       "  </tbody>\n",
       "</table>\n",
       "</div>"
      ],
      "text/plain": [
       "         id  gen                                              smile source  \\\n",
       "17051  ACQZ   10  Cc1ccc(-c2nnnn2C2=CC=NN=NN2c2ccc(C)c(=O)[nH]2)nn1   LSTM   \n",
       "17052  ACRA   10  CC1=CC=C(C(=O)Nc2ncnn2-c2ccc(-c3nnnn3-c3ccc(C)...   LSTM   \n",
       "17053  ACRB   10  Cc1ccc(-c2nnnn2C2=CC=C(C(=O)NC(=O)c3ccccc3C3=C...   LSTM   \n",
       "17054  ACRC   10  Cc1ccc(-c2nnnn2-c2ccc(-c3nnn[nH]3)cc2-c2ccc(-c...   LSTM   \n",
       "17055  ACRD   10  COC1=CC=C(c2nnnn2C2=CC=C(c3nnnn3C3=CC=C4C=CC=C...   LSTM   \n",
       "\n",
       "       weight  logp  score  \n",
       "17051     NaN   NaN   99.9  \n",
       "17052     NaN   NaN   99.9  \n",
       "17053     NaN   NaN   99.9  \n",
       "17054     NaN   NaN   99.9  \n",
       "17055     NaN   NaN   99.9  "
      ]
     },
     "execution_count": 87,
     "metadata": {},
     "output_type": "execute_result"
    }
   ],
   "source": [
    "# Read the csv result analyzed in previous generation\n",
    "# './generations/master_results_table_gen(i-1).csv'\n",
    "master_table = pd.read_csv('./generations/master_results_table_gen' + str(GLOBAL_GENERATION-1) + '.csv',sep=',')\n",
    "master_table.tail()"
   ]
  },
  {
   "cell_type": "code",
   "execution_count": 88,
   "metadata": {},
   "outputs": [
    {
     "data": {
      "text/plain": [
       "(17056, 7)"
      ]
     },
     "execution_count": 88,
     "metadata": {},
     "output_type": "execute_result"
    }
   ],
   "source": [
    "master_table.shape"
   ]
  },
  {
   "cell_type": "code",
   "execution_count": 89,
   "metadata": {},
   "outputs": [],
   "source": [
    "master_table.drop_duplicates(subset =\"smile\", keep = False, inplace = True) "
   ]
  },
  {
   "cell_type": "code",
   "execution_count": 90,
   "metadata": {},
   "outputs": [
    {
     "data": {
      "text/plain": [
       "(16548, 7)"
      ]
     },
     "execution_count": 90,
     "metadata": {},
     "output_type": "execute_result"
    }
   ],
   "source": [
    "master_table.shape"
   ]
  },
  {
   "cell_type": "markdown",
   "metadata": {},
   "source": [
    "RMSD values are calculated relative to the best mode and use only movable heavy atoms. Two variants of RMSD metrics are provided, rmsd/lb (RMSD lower bound) and rmsd/ub (RMSD upper bound), differing in how the atoms are matched in the distance calculation:\n",
    "\n",
    "* rmsd/ub matches each atom in one conformation with itself in the other conformation, ignoring any symmetry\n",
    "* rmsd' matches each atom in one conformation with the closest atom of the same element type in the other conformation (rmsd' can not be used directly, because it is not symmetric)\n",
    "* rmsd/lb is defined as follows: rmsd/lb(c1, c2) = max(rmsd'(c1, c2), rmsd'(c2, c1))\n",
    "\n",
    "So: if your ligand has no internal symmetry, rmsd/ub is the value to use. However, if you are docking e.g. benzene, this would give you different values depending on your ligand is rotates and which of the six equivalent CH point into your binding pocket, therefore rmsd/lb gives you a better ranking of docking solutions"
   ]
  },
  {
   "cell_type": "code",
   "execution_count": 91,
   "metadata": {
    "scrolled": true
   },
   "outputs": [
    {
     "data": {
      "text/html": [
       "<div>\n",
       "<style scoped>\n",
       "    .dataframe tbody tr th:only-of-type {\n",
       "        vertical-align: middle;\n",
       "    }\n",
       "\n",
       "    .dataframe tbody tr th {\n",
       "        vertical-align: top;\n",
       "    }\n",
       "\n",
       "    .dataframe thead th {\n",
       "        text-align: right;\n",
       "    }\n",
       "</style>\n",
       "<table border=\"1\" class=\"dataframe\">\n",
       "  <thead>\n",
       "    <tr style=\"text-align: right;\">\n",
       "      <th></th>\n",
       "      <th>Ligand</th>\n",
       "      <th>Binding Affinity</th>\n",
       "      <th>rmsd/ub</th>\n",
       "      <th>rmsd/lb</th>\n",
       "    </tr>\n",
       "  </thead>\n",
       "  <tbody>\n",
       "    <tr>\n",
       "      <th>0</th>\n",
       "      <td>6LU7_idAAAAgen10_uff_E=407.75</td>\n",
       "      <td>-6.2</td>\n",
       "      <td>0.000</td>\n",
       "      <td>0.000</td>\n",
       "    </tr>\n",
       "    <tr>\n",
       "      <th>1</th>\n",
       "      <td>6LU7_idAAAAgen10_uff_E=407.75</td>\n",
       "      <td>-6.1</td>\n",
       "      <td>51.660</td>\n",
       "      <td>53.697</td>\n",
       "    </tr>\n",
       "    <tr>\n",
       "      <th>2</th>\n",
       "      <td>6LU7_idAAAAgen10_uff_E=407.75</td>\n",
       "      <td>-6.1</td>\n",
       "      <td>51.807</td>\n",
       "      <td>53.524</td>\n",
       "    </tr>\n",
       "    <tr>\n",
       "      <th>3</th>\n",
       "      <td>6LU7_idAAAAgen10_uff_E=407.75</td>\n",
       "      <td>-6.1</td>\n",
       "      <td>25.128</td>\n",
       "      <td>25.816</td>\n",
       "    </tr>\n",
       "    <tr>\n",
       "      <th>4</th>\n",
       "      <td>6LU7_idAAAAgen10_uff_E=407.75</td>\n",
       "      <td>-6.1</td>\n",
       "      <td>2.321</td>\n",
       "      <td>3.245</td>\n",
       "    </tr>\n",
       "  </tbody>\n",
       "</table>\n",
       "</div>"
      ],
      "text/plain": [
       "                          Ligand  Binding Affinity  rmsd/ub   rmsd/lb\n",
       "0  6LU7_idAAAAgen10_uff_E=407.75              -6.2    0.000     0.000\n",
       "1  6LU7_idAAAAgen10_uff_E=407.75              -6.1   51.660    53.697\n",
       "2  6LU7_idAAAAgen10_uff_E=407.75              -6.1   51.807    53.524\n",
       "3  6LU7_idAAAAgen10_uff_E=407.75              -6.1   25.128    25.816\n",
       "4  6LU7_idAAAAgen10_uff_E=407.75              -6.1    2.321     3.245"
      ]
     },
     "execution_count": 91,
     "metadata": {},
     "output_type": "execute_result"
    }
   ],
   "source": [
    "# This is the result from PyRX\n",
    "# './generations/results/results_gen(i-1).csv'\n",
    "new_scores = pd.read_csv('./generations/results/results_gen' + str(GLOBAL_GENERATION-1) + '.csv',sep=',')\n",
    "new_scores.head()"
   ]
  },
  {
   "cell_type": "code",
   "execution_count": 92,
   "metadata": {},
   "outputs": [
    {
     "data": {
      "text/plain": [
       "Index(['Ligand', 'Binding Affinity', 'rmsd/ub', ' rmsd/lb'], dtype='object')"
      ]
     },
     "execution_count": 92,
     "metadata": {},
     "output_type": "execute_result"
    }
   ],
   "source": [
    "new_scores.columns"
   ]
  },
  {
   "cell_type": "markdown",
   "metadata": {},
   "source": [
    "new_scores = new_scores.groupby(\"Ligand\").min()[\"Binding Affinity\"].reset_index()\n",
    "new_scores['id'] = new_scores['Ligand'].str.split(\"_\").str[1].str.split(\"gen\").str[0].str.split(\"id\").str[1]\n",
    "new_scores['gen'] = new_scores['Ligand'].str.split(\"_\").str[1].str.split(\"gen\").str[1]"
   ]
  },
  {
   "cell_type": "markdown",
   "metadata": {},
   "source": [
    "new_scores['Ligand'].str.split(\"_\").str[0].str.split(\"gen\").str[1]"
   ]
  },
  {
   "cell_type": "code",
   "execution_count": 93,
   "metadata": {},
   "outputs": [
    {
     "data": {
      "text/html": [
       "<div>\n",
       "<style scoped>\n",
       "    .dataframe tbody tr th:only-of-type {\n",
       "        vertical-align: middle;\n",
       "    }\n",
       "\n",
       "    .dataframe tbody tr th {\n",
       "        vertical-align: top;\n",
       "    }\n",
       "\n",
       "    .dataframe thead th {\n",
       "        text-align: right;\n",
       "    }\n",
       "</style>\n",
       "<table border=\"1\" class=\"dataframe\">\n",
       "  <thead>\n",
       "    <tr style=\"text-align: right;\">\n",
       "      <th></th>\n",
       "      <th>id</th>\n",
       "      <th>gen</th>\n",
       "      <th>score</th>\n",
       "    </tr>\n",
       "  </thead>\n",
       "  <tbody>\n",
       "    <tr>\n",
       "      <th>0</th>\n",
       "      <td>AAAA</td>\n",
       "      <td>10</td>\n",
       "      <td>-6.2</td>\n",
       "    </tr>\n",
       "    <tr>\n",
       "      <th>1</th>\n",
       "      <td>AAAB</td>\n",
       "      <td>10</td>\n",
       "      <td>-6.2</td>\n",
       "    </tr>\n",
       "    <tr>\n",
       "      <th>2</th>\n",
       "      <td>AAAC</td>\n",
       "      <td>10</td>\n",
       "      <td>-4.0</td>\n",
       "    </tr>\n",
       "    <tr>\n",
       "      <th>3</th>\n",
       "      <td>AAAD</td>\n",
       "      <td>10</td>\n",
       "      <td>-6.3</td>\n",
       "    </tr>\n",
       "    <tr>\n",
       "      <th>4</th>\n",
       "      <td>AAAE</td>\n",
       "      <td>10</td>\n",
       "      <td>-3.3</td>\n",
       "    </tr>\n",
       "    <tr>\n",
       "      <th>...</th>\n",
       "      <td>...</td>\n",
       "      <td>...</td>\n",
       "      <td>...</td>\n",
       "    </tr>\n",
       "    <tr>\n",
       "      <th>1792</th>\n",
       "      <td>ACQZ</td>\n",
       "      <td>10</td>\n",
       "      <td>-8.5</td>\n",
       "    </tr>\n",
       "    <tr>\n",
       "      <th>1793</th>\n",
       "      <td>ACRA</td>\n",
       "      <td>10</td>\n",
       "      <td>-9.8</td>\n",
       "    </tr>\n",
       "    <tr>\n",
       "      <th>1794</th>\n",
       "      <td>ACRB</td>\n",
       "      <td>10</td>\n",
       "      <td>-10.0</td>\n",
       "    </tr>\n",
       "    <tr>\n",
       "      <th>1795</th>\n",
       "      <td>ACRC</td>\n",
       "      <td>10</td>\n",
       "      <td>-9.3</td>\n",
       "    </tr>\n",
       "    <tr>\n",
       "      <th>1796</th>\n",
       "      <td>ACRD</td>\n",
       "      <td>10</td>\n",
       "      <td>-9.2</td>\n",
       "    </tr>\n",
       "  </tbody>\n",
       "</table>\n",
       "<p>1797 rows × 3 columns</p>\n",
       "</div>"
      ],
      "text/plain": [
       "        id gen  score\n",
       "0     AAAA  10   -6.2\n",
       "1     AAAB  10   -6.2\n",
       "2     AAAC  10   -4.0\n",
       "3     AAAD  10   -6.3\n",
       "4     AAAE  10   -3.3\n",
       "...    ...  ..    ...\n",
       "1792  ACQZ  10   -8.5\n",
       "1793  ACRA  10   -9.8\n",
       "1794  ACRB  10  -10.0\n",
       "1795  ACRC  10   -9.3\n",
       "1796  ACRD  10   -9.2\n",
       "\n",
       "[1797 rows x 3 columns]"
      ]
     },
     "execution_count": 93,
     "metadata": {},
     "output_type": "execute_result"
    }
   ],
   "source": [
    "new_scores = new_scores.groupby(\"Ligand\").min()[\"Binding Affinity\"].reset_index()\n",
    "\n",
    "new_scores['id'] = new_scores['Ligand'].str.split(\"_\").str[1].str.split(\"gen\").str[0].str.split(\"id\").str[1]\n",
    "#new_scores['id'] = new_scores['Ligand'].str.split(\"_\").str[0].str.split(\"gen\").str[0].str.split(\"id\").str[1] # Temporary\n",
    "\n",
    "new_scores['gen'] = new_scores['Ligand'].str.split(\"_\").str[1].str.split(\"gen\").str[1]\n",
    "#new_scores['gen'] = new_scores['Ligand'].str.split(\"_\").str[0].str.split(\"gen\").str[1] # Temporary\n",
    "\n",
    "new_scores['score'] = new_scores[\"Binding Affinity\"]\n",
    "new_scores = new_scores[['id','gen','score']]\n",
    "new_scores"
   ]
  },
  {
   "cell_type": "code",
   "execution_count": 94,
   "metadata": {},
   "outputs": [
    {
     "data": {
      "text/html": [
       "<div>\n",
       "<style scoped>\n",
       "    .dataframe tbody tr th:only-of-type {\n",
       "        vertical-align: middle;\n",
       "    }\n",
       "\n",
       "    .dataframe tbody tr th {\n",
       "        vertical-align: top;\n",
       "    }\n",
       "\n",
       "    .dataframe thead th {\n",
       "        text-align: right;\n",
       "    }\n",
       "</style>\n",
       "<table border=\"1\" class=\"dataframe\">\n",
       "  <thead>\n",
       "    <tr style=\"text-align: right;\">\n",
       "      <th></th>\n",
       "      <th>id</th>\n",
       "      <th>gen</th>\n",
       "      <th>smile</th>\n",
       "      <th>source</th>\n",
       "      <th>weight</th>\n",
       "      <th>logp</th>\n",
       "      <th>score</th>\n",
       "    </tr>\n",
       "  </thead>\n",
       "  <tbody>\n",
       "    <tr>\n",
       "      <th>15811</th>\n",
       "      <td>ABJY</td>\n",
       "      <td>10</td>\n",
       "      <td>CC1=CC=CC=CC=CC=CC=CC=CC=CC=CC=CC=CC=CC=CC=CC=...</td>\n",
       "      <td>LSTM</td>\n",
       "      <td>821.205</td>\n",
       "      <td>17.61030</td>\n",
       "      <td>-13.7</td>\n",
       "    </tr>\n",
       "    <tr>\n",
       "      <th>15398</th>\n",
       "      <td>AARK</td>\n",
       "      <td>10</td>\n",
       "      <td>CC1=CC=CC=CC=CC=CC=CC=CC=CC=CC=CC=CC=CC=CC=CC=...</td>\n",
       "      <td>LSTM</td>\n",
       "      <td>859.254</td>\n",
       "      <td>18.33260</td>\n",
       "      <td>-13.1</td>\n",
       "    </tr>\n",
       "    <tr>\n",
       "      <th>0</th>\n",
       "      <td>AAXK</td>\n",
       "      <td>9</td>\n",
       "      <td>Cc1ccc(-c2nnnn2C2CCCCC2c2ccc(-c3nnnn3-c3cccnc3...</td>\n",
       "      <td>LSTM</td>\n",
       "      <td>765.846</td>\n",
       "      <td>6.37382</td>\n",
       "      <td>-12.8</td>\n",
       "    </tr>\n",
       "    <tr>\n",
       "      <th>16106</th>\n",
       "      <td>ABXN</td>\n",
       "      <td>10</td>\n",
       "      <td>CC1=CC=CC=CC=CC=CC=CC=CC=CC=CC=CC=CC=CC=CC=CC=...</td>\n",
       "      <td>LSTM</td>\n",
       "      <td>888.296</td>\n",
       "      <td>18.23730</td>\n",
       "      <td>-12.7</td>\n",
       "    </tr>\n",
       "    <tr>\n",
       "      <th>16202</th>\n",
       "      <td>ACBT</td>\n",
       "      <td>10</td>\n",
       "      <td>OC1=CC=CC=CC=CC=CC=CC=CC=CC=CC=CC=CC=CC=CC=CC=...</td>\n",
       "      <td>LSTM</td>\n",
       "      <td>1005.443</td>\n",
       "      <td>21.02130</td>\n",
       "      <td>-12.7</td>\n",
       "    </tr>\n",
       "    <tr>\n",
       "      <th>1</th>\n",
       "      <td>ABPG</td>\n",
       "      <td>6</td>\n",
       "      <td>CC1=CC=C(C(=O)Nc2ncnn2C2=CC=C(c3nnc(NC(=O)CC4=...</td>\n",
       "      <td>LSTM</td>\n",
       "      <td>845.876</td>\n",
       "      <td>6.83532</td>\n",
       "      <td>-12.5</td>\n",
       "    </tr>\n",
       "    <tr>\n",
       "      <th>15216</th>\n",
       "      <td>AAJO</td>\n",
       "      <td>10</td>\n",
       "      <td>COC1=CC=CC=CC=CC=CC=CC=CC=CC=CC=CC=CC=CC=CC=CC...</td>\n",
       "      <td>LSTM</td>\n",
       "      <td>901.291</td>\n",
       "      <td>18.46180</td>\n",
       "      <td>-12.5</td>\n",
       "    </tr>\n",
       "    <tr>\n",
       "      <th>16270</th>\n",
       "      <td>ACEU</td>\n",
       "      <td>10</td>\n",
       "      <td>Cc1ccc(-c2nnnn2-c2ccccc2-c2ccc(-c3ccnnc3-c3ccc...</td>\n",
       "      <td>LSTM</td>\n",
       "      <td>789.899</td>\n",
       "      <td>10.58302</td>\n",
       "      <td>-12.4</td>\n",
       "    </tr>\n",
       "    <tr>\n",
       "      <th>2</th>\n",
       "      <td>AALA</td>\n",
       "      <td>6</td>\n",
       "      <td>CC1=CC=C2CCc3ccc4ccc(ccccc(-c5ccccc5)c5[nH]c(=...</td>\n",
       "      <td>LSTM</td>\n",
       "      <td>823.957</td>\n",
       "      <td>8.10040</td>\n",
       "      <td>-12.3</td>\n",
       "    </tr>\n",
       "    <tr>\n",
       "      <th>15521</th>\n",
       "      <td>AAXA</td>\n",
       "      <td>10</td>\n",
       "      <td>CC1=CC=CC=CC=CC=CC=CC=CC=CC=CC=CC=CC=CC=CC=CC=...</td>\n",
       "      <td>LSTM</td>\n",
       "      <td>833.216</td>\n",
       "      <td>17.77640</td>\n",
       "      <td>-12.3</td>\n",
       "    </tr>\n",
       "    <tr>\n",
       "      <th>15790</th>\n",
       "      <td>ABIX</td>\n",
       "      <td>10</td>\n",
       "      <td>Cc1ccc(-c2nnnn2-c2ccccc2C2=CC=C(c3nnnn3-c3cccc...</td>\n",
       "      <td>LSTM</td>\n",
       "      <td>643.667</td>\n",
       "      <td>4.65752</td>\n",
       "      <td>-12.3</td>\n",
       "    </tr>\n",
       "    <tr>\n",
       "      <th>3</th>\n",
       "      <td>ABSY</td>\n",
       "      <td>8</td>\n",
       "      <td>Cc1ccc(-c2nnnn2C2CCC=C(c3nnnn3-c3ccccc3-c3cccn...</td>\n",
       "      <td>LSTM</td>\n",
       "      <td>788.836</td>\n",
       "      <td>5.95482</td>\n",
       "      <td>-12.3</td>\n",
       "    </tr>\n",
       "    <tr>\n",
       "      <th>16441</th>\n",
       "      <td>ACMN</td>\n",
       "      <td>10</td>\n",
       "      <td>Cc1ccc(-c2nnnn2C2=CC=C(C(=O)NC(=O)c3nnnn3-c3cc...</td>\n",
       "      <td>LSTM</td>\n",
       "      <td>700.675</td>\n",
       "      <td>3.33582</td>\n",
       "      <td>-12.3</td>\n",
       "    </tr>\n",
       "    <tr>\n",
       "      <th>4</th>\n",
       "      <td>ABQF</td>\n",
       "      <td>9</td>\n",
       "      <td>Cc1ccc(-c2nnnn2C2CCCCC2c2ccccc2C2=CC=C(c3nnnn3...</td>\n",
       "      <td>LSTM</td>\n",
       "      <td>884.969</td>\n",
       "      <td>9.56272</td>\n",
       "      <td>-12.3</td>\n",
       "    </tr>\n",
       "    <tr>\n",
       "      <th>8</th>\n",
       "      <td>ABYC</td>\n",
       "      <td>9</td>\n",
       "      <td>Cc1ccc(-c2nnnn2C2=CC=C(c3ccccc3C3=CC=C(c4nnnn4...</td>\n",
       "      <td>LSTM</td>\n",
       "      <td>816.715</td>\n",
       "      <td>1.04002</td>\n",
       "      <td>-12.2</td>\n",
       "    </tr>\n",
       "    <tr>\n",
       "      <th>15958</th>\n",
       "      <td>ABQU</td>\n",
       "      <td>10</td>\n",
       "      <td>CC1=CC=CC=CC=CC=CC=CC=CC=CC=CC=CC=CC=CC=CC=CC=...</td>\n",
       "      <td>LSTM</td>\n",
       "      <td>1008.447</td>\n",
       "      <td>19.85510</td>\n",
       "      <td>-12.2</td>\n",
       "    </tr>\n",
       "    <tr>\n",
       "      <th>7</th>\n",
       "      <td>AAWM</td>\n",
       "      <td>8</td>\n",
       "      <td>Cc1ccc(-c2nnnn2-c2ccnnc2-c2ccc(-c3nnnn3-c3ccc4...</td>\n",
       "      <td>LSTM</td>\n",
       "      <td>788.796</td>\n",
       "      <td>5.16332</td>\n",
       "      <td>-12.2</td>\n",
       "    </tr>\n",
       "    <tr>\n",
       "      <th>5</th>\n",
       "      <td>ABYI</td>\n",
       "      <td>6</td>\n",
       "      <td>CC1=CC=C(C(=O)Nc2nnnn2C2=CC=C(C3=CC=C(C(=O)NC(...</td>\n",
       "      <td>LSTM</td>\n",
       "      <td>826.869</td>\n",
       "      <td>7.19200</td>\n",
       "      <td>-12.2</td>\n",
       "    </tr>\n",
       "    <tr>\n",
       "      <th>15165</th>\n",
       "      <td>AAHE</td>\n",
       "      <td>10</td>\n",
       "      <td>Cc1ccc(-c2nnnn2-c2ccccc2-c2ccc(-c3nnnn3-c3cccc...</td>\n",
       "      <td>LSTM</td>\n",
       "      <td>833.793</td>\n",
       "      <td>3.47402</td>\n",
       "      <td>-12.2</td>\n",
       "    </tr>\n",
       "    <tr>\n",
       "      <th>6</th>\n",
       "      <td>ACAF</td>\n",
       "      <td>6</td>\n",
       "      <td>Cc1ccc2ccc3ccc(C(=O)Nc4ccccc4)ccc([nH]c2=O)c2n...</td>\n",
       "      <td>LSTM</td>\n",
       "      <td>769.782</td>\n",
       "      <td>4.56982</td>\n",
       "      <td>-12.2</td>\n",
       "    </tr>\n",
       "    <tr>\n",
       "      <th>16201</th>\n",
       "      <td>ACBS</td>\n",
       "      <td>10</td>\n",
       "      <td>CN1C=CC=CC=CC=CC=CC=CC=CC=CC=CC=CC=CC=CC=CC=CC...</td>\n",
       "      <td>LSTM</td>\n",
       "      <td>976.405</td>\n",
       "      <td>19.52530</td>\n",
       "      <td>-12.1</td>\n",
       "    </tr>\n",
       "    <tr>\n",
       "      <th>16523</th>\n",
       "      <td>ACQD</td>\n",
       "      <td>10</td>\n",
       "      <td>CC1=CC=CC=CC=CC=CC=CC=CC=CC=CC=CC=CC=CC=CC=CC=...</td>\n",
       "      <td>LSTM</td>\n",
       "      <td>743.091</td>\n",
       "      <td>15.94170</td>\n",
       "      <td>-12.1</td>\n",
       "    </tr>\n",
       "    <tr>\n",
       "      <th>10</th>\n",
       "      <td>ABPM</td>\n",
       "      <td>9</td>\n",
       "      <td>Cc1ccc(-c2nnnn2-c2ccc(-c3nnnn3-c3ccccc3)cc2-c2...</td>\n",
       "      <td>LSTM</td>\n",
       "      <td>812.858</td>\n",
       "      <td>7.19772</td>\n",
       "      <td>-12.1</td>\n",
       "    </tr>\n",
       "    <tr>\n",
       "      <th>9</th>\n",
       "      <td>ACDU</td>\n",
       "      <td>6</td>\n",
       "      <td>Cc1ccc(C(=O)Nc2nnnn2C2=CC=C(c3ccc(C)c(=O)[nH]3...</td>\n",
       "      <td>LSTM</td>\n",
       "      <td>813.874</td>\n",
       "      <td>8.02494</td>\n",
       "      <td>-12.1</td>\n",
       "    </tr>\n",
       "    <tr>\n",
       "      <th>15376</th>\n",
       "      <td>AAQO</td>\n",
       "      <td>10</td>\n",
       "      <td>CC1=CC=C(n2nnnc2-c2ccc(-c3nnnn3-c3ccccc3)cc2C2...</td>\n",
       "      <td>LSTM</td>\n",
       "      <td>712.698</td>\n",
       "      <td>3.48020</td>\n",
       "      <td>-12.1</td>\n",
       "    </tr>\n",
       "    <tr>\n",
       "      <th>15371</th>\n",
       "      <td>AAQJ</td>\n",
       "      <td>10</td>\n",
       "      <td>Cc1ccccccccccccccccccccccccccccccc2c(c3ccccc3c...</td>\n",
       "      <td>LSTM</td>\n",
       "      <td>739.059</td>\n",
       "      <td>13.91422</td>\n",
       "      <td>-12.1</td>\n",
       "    </tr>\n",
       "    <tr>\n",
       "      <th>13</th>\n",
       "      <td>AAFC</td>\n",
       "      <td>7</td>\n",
       "      <td>Cc1ccc(C(=O)Nc2nnnn2-c2ccc(-c3nnnn3-c3ccc4ccc5...</td>\n",
       "      <td>LSTM</td>\n",
       "      <td>664.654</td>\n",
       "      <td>2.76344</td>\n",
       "      <td>-12.0</td>\n",
       "    </tr>\n",
       "    <tr>\n",
       "      <th>12</th>\n",
       "      <td>AAVH</td>\n",
       "      <td>8</td>\n",
       "      <td>Cc1ccc(C(=O)Nc2nnnn2-c2ccc(-c3ccc(-c4ccccc4)cc...</td>\n",
       "      <td>LSTM</td>\n",
       "      <td>803.815</td>\n",
       "      <td>7.06642</td>\n",
       "      <td>-12.0</td>\n",
       "    </tr>\n",
       "    <tr>\n",
       "      <th>11</th>\n",
       "      <td>ACCY</td>\n",
       "      <td>8</td>\n",
       "      <td>COC1=CC=CC=CC=CC=CC=CC=CC=CC=CC=CC=CC=CC=CC=CC...</td>\n",
       "      <td>LSTM</td>\n",
       "      <td>652.922</td>\n",
       "      <td>13.07690</td>\n",
       "      <td>-12.0</td>\n",
       "    </tr>\n",
       "    <tr>\n",
       "      <th>15439</th>\n",
       "      <td>AATG</td>\n",
       "      <td>10</td>\n",
       "      <td>Cc1ccc(-c2nnnn2-c2ccc(-c3nnnn3-c3cccnc3-c3nnnn...</td>\n",
       "      <td>LSTM</td>\n",
       "      <td>773.662</td>\n",
       "      <td>-0.63608</td>\n",
       "      <td>-12.0</td>\n",
       "    </tr>\n",
       "    <tr>\n",
       "      <th>16089</th>\n",
       "      <td>ABWU</td>\n",
       "      <td>10</td>\n",
       "      <td>Cc1ccc(-c2nnnn2-c2ccc(-c3nnnn3-c3ccccc3)cc2-c2...</td>\n",
       "      <td>LSTM</td>\n",
       "      <td>812.826</td>\n",
       "      <td>5.20852</td>\n",
       "      <td>-12.0</td>\n",
       "    </tr>\n",
       "    <tr>\n",
       "      <th>16327</th>\n",
       "      <td>ACHK</td>\n",
       "      <td>10</td>\n",
       "      <td>NC1=CC=CC=CC=CC=CC=CC=CC=CC=CC=CC=CC=CC=CC=CC=...</td>\n",
       "      <td>LSTM</td>\n",
       "      <td>1002.443</td>\n",
       "      <td>20.17600</td>\n",
       "      <td>-11.9</td>\n",
       "    </tr>\n",
       "    <tr>\n",
       "      <th>16000</th>\n",
       "      <td>ABSQ</td>\n",
       "      <td>10</td>\n",
       "      <td>Cc1ccc(-c2nnnn2-c2ccc(-c3nnnn3-c3ccc(C)c(=O)[n...</td>\n",
       "      <td>LSTM</td>\n",
       "      <td>688.585</td>\n",
       "      <td>-0.96276</td>\n",
       "      <td>-11.9</td>\n",
       "    </tr>\n",
       "    <tr>\n",
       "      <th>15648</th>\n",
       "      <td>ABCU</td>\n",
       "      <td>10</td>\n",
       "      <td>Cc1ccc(-c2nnnn2-c2ccccc2C2=CC=C(c3nnnn3-c3cccn...</td>\n",
       "      <td>LSTM</td>\n",
       "      <td>552.558</td>\n",
       "      <td>3.41342</td>\n",
       "      <td>-11.9</td>\n",
       "    </tr>\n",
       "    <tr>\n",
       "      <th>15589</th>\n",
       "      <td>AAZZ</td>\n",
       "      <td>10</td>\n",
       "      <td>CC1=CC=CC=CC=CC=CC=CC=CC=CC=CC=CC=CC=CC=CC=CC=...</td>\n",
       "      <td>LSTM</td>\n",
       "      <td>627.916</td>\n",
       "      <td>13.02290</td>\n",
       "      <td>-11.9</td>\n",
       "    </tr>\n",
       "    <tr>\n",
       "      <th>15058</th>\n",
       "      <td>AACM</td>\n",
       "      <td>10</td>\n",
       "      <td>Cc1ccccccccccccccccccccccccccccccccccccccccccc...</td>\n",
       "      <td>LSTM</td>\n",
       "      <td>873.281</td>\n",
       "      <td>18.86102</td>\n",
       "      <td>-11.9</td>\n",
       "    </tr>\n",
       "    <tr>\n",
       "      <th>14</th>\n",
       "      <td>AADD</td>\n",
       "      <td>9</td>\n",
       "      <td>CC1=CC=C(c2nnnn2-c2ccnnc2C2=CC=C(c3ccc4c(=O)[n...</td>\n",
       "      <td>LSTM</td>\n",
       "      <td>638.652</td>\n",
       "      <td>2.38670</td>\n",
       "      <td>-11.9</td>\n",
       "    </tr>\n",
       "    <tr>\n",
       "      <th>15</th>\n",
       "      <td>AAKA</td>\n",
       "      <td>9</td>\n",
       "      <td>CC1=CC=C(c2nnnn2C2=CC=C(C(=O)Nc3nnnn3-c3ccnnc3...</td>\n",
       "      <td>LSTM</td>\n",
       "      <td>721.698</td>\n",
       "      <td>2.32590</td>\n",
       "      <td>-11.9</td>\n",
       "    </tr>\n",
       "    <tr>\n",
       "      <th>16</th>\n",
       "      <td>ABHD</td>\n",
       "      <td>8</td>\n",
       "      <td>CC1=CC=C(c2cnnn2C2CNN=NN2c2ccc(-c3nnnn3-c3cccc...</td>\n",
       "      <td>LSTM</td>\n",
       "      <td>880.938</td>\n",
       "      <td>5.90632</td>\n",
       "      <td>-11.9</td>\n",
       "    </tr>\n",
       "    <tr>\n",
       "      <th>17</th>\n",
       "      <td>AARG</td>\n",
       "      <td>6</td>\n",
       "      <td>CC(C)(C)C(=O)Nc1ccc(C(=O)Nc2nnnn2C2=CC=C(C(=O)...</td>\n",
       "      <td>LSTM</td>\n",
       "      <td>674.638</td>\n",
       "      <td>1.62020</td>\n",
       "      <td>-11.9</td>\n",
       "    </tr>\n",
       "    <tr>\n",
       "      <th>18</th>\n",
       "      <td>AANA</td>\n",
       "      <td>8</td>\n",
       "      <td>Cc1ccc(-c2nnnn2-c2ccnnc2C2=CC=C3C(=O)Nc4nnnn4C...</td>\n",
       "      <td>LSTM</td>\n",
       "      <td>690.648</td>\n",
       "      <td>2.59112</td>\n",
       "      <td>-11.9</td>\n",
       "    </tr>\n",
       "    <tr>\n",
       "      <th>25</th>\n",
       "      <td>AAWP</td>\n",
       "      <td>9</td>\n",
       "      <td>Cc1ccc(-c2nnnn2-c2cnnn2-c2ccc(-c3nnnn3-c3nnnn3...</td>\n",
       "      <td>LSTM</td>\n",
       "      <td>840.832</td>\n",
       "      <td>4.69882</td>\n",
       "      <td>-11.8</td>\n",
       "    </tr>\n",
       "    <tr>\n",
       "      <th>26</th>\n",
       "      <td>AAPY</td>\n",
       "      <td>7</td>\n",
       "      <td>CC1=CC=C(c2nnnn2-c2ccc(-c3nnnn3-c3ccc(-c4nnnn4...</td>\n",
       "      <td>LSTM</td>\n",
       "      <td>754.584</td>\n",
       "      <td>-4.96410</td>\n",
       "      <td>-11.8</td>\n",
       "    </tr>\n",
       "    <tr>\n",
       "      <th>15745</th>\n",
       "      <td>ABHC</td>\n",
       "      <td>10</td>\n",
       "      <td>CC1=CC=CC=CC=CC=CC=CC=CC=CC=CC=CC=CC=CC=CC=CC=...</td>\n",
       "      <td>LSTM</td>\n",
       "      <td>951.395</td>\n",
       "      <td>20.41330</td>\n",
       "      <td>-11.8</td>\n",
       "    </tr>\n",
       "    <tr>\n",
       "      <th>15071</th>\n",
       "      <td>AADB</td>\n",
       "      <td>10</td>\n",
       "      <td>CN1C=CC=CC=CC=CC=CC=CC=CC=CC=CC=CC=CC=CC=CC=CC...</td>\n",
       "      <td>LSTM</td>\n",
       "      <td>694.019</td>\n",
       "      <td>13.77230</td>\n",
       "      <td>-11.8</td>\n",
       "    </tr>\n",
       "    <tr>\n",
       "      <th>24</th>\n",
       "      <td>AASM</td>\n",
       "      <td>8</td>\n",
       "      <td>CC1=CC=c2[nH]c(c3nnnn23)=CC=C(n2nnnc2N2N=NN=NN...</td>\n",
       "      <td>LSTM</td>\n",
       "      <td>727.718</td>\n",
       "      <td>1.01472</td>\n",
       "      <td>-11.8</td>\n",
       "    </tr>\n",
       "    <tr>\n",
       "      <th>29</th>\n",
       "      <td>ABDE</td>\n",
       "      <td>8</td>\n",
       "      <td>CC1=CC=C(CCc2nnnn2C2=CC=C(c3nnnn3C3=CC=c4c(=O)...</td>\n",
       "      <td>LSTM</td>\n",
       "      <td>847.824</td>\n",
       "      <td>1.95559</td>\n",
       "      <td>-11.8</td>\n",
       "    </tr>\n",
       "    <tr>\n",
       "      <th>23</th>\n",
       "      <td>AAUV</td>\n",
       "      <td>6</td>\n",
       "      <td>CC1=CC=C(c2nnnn2C2=C(C)C(=O)N2c2ccccc2C2=CC=C(...</td>\n",
       "      <td>LSTM</td>\n",
       "      <td>812.799</td>\n",
       "      <td>4.41760</td>\n",
       "      <td>-11.8</td>\n",
       "    </tr>\n",
       "    <tr>\n",
       "      <th>15970</th>\n",
       "      <td>ABRJ</td>\n",
       "      <td>10</td>\n",
       "      <td>OC1=CC=CC=CC=CC=CC=CC=CC=CC=CC=CC=CC=CC=CC=CC=...</td>\n",
       "      <td>LSTM</td>\n",
       "      <td>849.215</td>\n",
       "      <td>17.68410</td>\n",
       "      <td>-11.8</td>\n",
       "    </tr>\n",
       "    <tr>\n",
       "      <th>22</th>\n",
       "      <td>AAUO</td>\n",
       "      <td>8</td>\n",
       "      <td>Cc1ccc(-c2nnnn2-c2ccc(-c3nnnn3C3=CC=C(C(=O)NO)...</td>\n",
       "      <td>LSTM</td>\n",
       "      <td>819.731</td>\n",
       "      <td>-0.82178</td>\n",
       "      <td>-11.8</td>\n",
       "    </tr>\n",
       "  </tbody>\n",
       "</table>\n",
       "</div>"
      ],
      "text/plain": [
       "         id  gen                                              smile source  \\\n",
       "15811  ABJY   10  CC1=CC=CC=CC=CC=CC=CC=CC=CC=CC=CC=CC=CC=CC=CC=...   LSTM   \n",
       "15398  AARK   10  CC1=CC=CC=CC=CC=CC=CC=CC=CC=CC=CC=CC=CC=CC=CC=...   LSTM   \n",
       "0      AAXK    9  Cc1ccc(-c2nnnn2C2CCCCC2c2ccc(-c3nnnn3-c3cccnc3...   LSTM   \n",
       "16106  ABXN   10  CC1=CC=CC=CC=CC=CC=CC=CC=CC=CC=CC=CC=CC=CC=CC=...   LSTM   \n",
       "16202  ACBT   10  OC1=CC=CC=CC=CC=CC=CC=CC=CC=CC=CC=CC=CC=CC=CC=...   LSTM   \n",
       "1      ABPG    6  CC1=CC=C(C(=O)Nc2ncnn2C2=CC=C(c3nnc(NC(=O)CC4=...   LSTM   \n",
       "15216  AAJO   10  COC1=CC=CC=CC=CC=CC=CC=CC=CC=CC=CC=CC=CC=CC=CC...   LSTM   \n",
       "16270  ACEU   10  Cc1ccc(-c2nnnn2-c2ccccc2-c2ccc(-c3ccnnc3-c3ccc...   LSTM   \n",
       "2      AALA    6  CC1=CC=C2CCc3ccc4ccc(ccccc(-c5ccccc5)c5[nH]c(=...   LSTM   \n",
       "15521  AAXA   10  CC1=CC=CC=CC=CC=CC=CC=CC=CC=CC=CC=CC=CC=CC=CC=...   LSTM   \n",
       "15790  ABIX   10  Cc1ccc(-c2nnnn2-c2ccccc2C2=CC=C(c3nnnn3-c3cccc...   LSTM   \n",
       "3      ABSY    8  Cc1ccc(-c2nnnn2C2CCC=C(c3nnnn3-c3ccccc3-c3cccn...   LSTM   \n",
       "16441  ACMN   10  Cc1ccc(-c2nnnn2C2=CC=C(C(=O)NC(=O)c3nnnn3-c3cc...   LSTM   \n",
       "4      ABQF    9  Cc1ccc(-c2nnnn2C2CCCCC2c2ccccc2C2=CC=C(c3nnnn3...   LSTM   \n",
       "8      ABYC    9  Cc1ccc(-c2nnnn2C2=CC=C(c3ccccc3C3=CC=C(c4nnnn4...   LSTM   \n",
       "15958  ABQU   10  CC1=CC=CC=CC=CC=CC=CC=CC=CC=CC=CC=CC=CC=CC=CC=...   LSTM   \n",
       "7      AAWM    8  Cc1ccc(-c2nnnn2-c2ccnnc2-c2ccc(-c3nnnn3-c3ccc4...   LSTM   \n",
       "5      ABYI    6  CC1=CC=C(C(=O)Nc2nnnn2C2=CC=C(C3=CC=C(C(=O)NC(...   LSTM   \n",
       "15165  AAHE   10  Cc1ccc(-c2nnnn2-c2ccccc2-c2ccc(-c3nnnn3-c3cccc...   LSTM   \n",
       "6      ACAF    6  Cc1ccc2ccc3ccc(C(=O)Nc4ccccc4)ccc([nH]c2=O)c2n...   LSTM   \n",
       "16201  ACBS   10  CN1C=CC=CC=CC=CC=CC=CC=CC=CC=CC=CC=CC=CC=CC=CC...   LSTM   \n",
       "16523  ACQD   10  CC1=CC=CC=CC=CC=CC=CC=CC=CC=CC=CC=CC=CC=CC=CC=...   LSTM   \n",
       "10     ABPM    9  Cc1ccc(-c2nnnn2-c2ccc(-c3nnnn3-c3ccccc3)cc2-c2...   LSTM   \n",
       "9      ACDU    6  Cc1ccc(C(=O)Nc2nnnn2C2=CC=C(c3ccc(C)c(=O)[nH]3...   LSTM   \n",
       "15376  AAQO   10  CC1=CC=C(n2nnnc2-c2ccc(-c3nnnn3-c3ccccc3)cc2C2...   LSTM   \n",
       "15371  AAQJ   10  Cc1ccccccccccccccccccccccccccccccc2c(c3ccccc3c...   LSTM   \n",
       "13     AAFC    7  Cc1ccc(C(=O)Nc2nnnn2-c2ccc(-c3nnnn3-c3ccc4ccc5...   LSTM   \n",
       "12     AAVH    8  Cc1ccc(C(=O)Nc2nnnn2-c2ccc(-c3ccc(-c4ccccc4)cc...   LSTM   \n",
       "11     ACCY    8  COC1=CC=CC=CC=CC=CC=CC=CC=CC=CC=CC=CC=CC=CC=CC...   LSTM   \n",
       "15439  AATG   10  Cc1ccc(-c2nnnn2-c2ccc(-c3nnnn3-c3cccnc3-c3nnnn...   LSTM   \n",
       "16089  ABWU   10  Cc1ccc(-c2nnnn2-c2ccc(-c3nnnn3-c3ccccc3)cc2-c2...   LSTM   \n",
       "16327  ACHK   10  NC1=CC=CC=CC=CC=CC=CC=CC=CC=CC=CC=CC=CC=CC=CC=...   LSTM   \n",
       "16000  ABSQ   10  Cc1ccc(-c2nnnn2-c2ccc(-c3nnnn3-c3ccc(C)c(=O)[n...   LSTM   \n",
       "15648  ABCU   10  Cc1ccc(-c2nnnn2-c2ccccc2C2=CC=C(c3nnnn3-c3cccn...   LSTM   \n",
       "15589  AAZZ   10  CC1=CC=CC=CC=CC=CC=CC=CC=CC=CC=CC=CC=CC=CC=CC=...   LSTM   \n",
       "15058  AACM   10  Cc1ccccccccccccccccccccccccccccccccccccccccccc...   LSTM   \n",
       "14     AADD    9  CC1=CC=C(c2nnnn2-c2ccnnc2C2=CC=C(c3ccc4c(=O)[n...   LSTM   \n",
       "15     AAKA    9  CC1=CC=C(c2nnnn2C2=CC=C(C(=O)Nc3nnnn3-c3ccnnc3...   LSTM   \n",
       "16     ABHD    8  CC1=CC=C(c2cnnn2C2CNN=NN2c2ccc(-c3nnnn3-c3cccc...   LSTM   \n",
       "17     AARG    6  CC(C)(C)C(=O)Nc1ccc(C(=O)Nc2nnnn2C2=CC=C(C(=O)...   LSTM   \n",
       "18     AANA    8  Cc1ccc(-c2nnnn2-c2ccnnc2C2=CC=C3C(=O)Nc4nnnn4C...   LSTM   \n",
       "25     AAWP    9  Cc1ccc(-c2nnnn2-c2cnnn2-c2ccc(-c3nnnn3-c3nnnn3...   LSTM   \n",
       "26     AAPY    7  CC1=CC=C(c2nnnn2-c2ccc(-c3nnnn3-c3ccc(-c4nnnn4...   LSTM   \n",
       "15745  ABHC   10  CC1=CC=CC=CC=CC=CC=CC=CC=CC=CC=CC=CC=CC=CC=CC=...   LSTM   \n",
       "15071  AADB   10  CN1C=CC=CC=CC=CC=CC=CC=CC=CC=CC=CC=CC=CC=CC=CC...   LSTM   \n",
       "24     AASM    8  CC1=CC=c2[nH]c(c3nnnn23)=CC=C(n2nnnc2N2N=NN=NN...   LSTM   \n",
       "29     ABDE    8  CC1=CC=C(CCc2nnnn2C2=CC=C(c3nnnn3C3=CC=c4c(=O)...   LSTM   \n",
       "23     AAUV    6  CC1=CC=C(c2nnnn2C2=C(C)C(=O)N2c2ccccc2C2=CC=C(...   LSTM   \n",
       "15970  ABRJ   10  OC1=CC=CC=CC=CC=CC=CC=CC=CC=CC=CC=CC=CC=CC=CC=...   LSTM   \n",
       "22     AAUO    8  Cc1ccc(-c2nnnn2-c2ccc(-c3nnnn3C3=CC=C(C(=O)NO)...   LSTM   \n",
       "\n",
       "         weight      logp  score  \n",
       "15811   821.205  17.61030  -13.7  \n",
       "15398   859.254  18.33260  -13.1  \n",
       "0       765.846   6.37382  -12.8  \n",
       "16106   888.296  18.23730  -12.7  \n",
       "16202  1005.443  21.02130  -12.7  \n",
       "1       845.876   6.83532  -12.5  \n",
       "15216   901.291  18.46180  -12.5  \n",
       "16270   789.899  10.58302  -12.4  \n",
       "2       823.957   8.10040  -12.3  \n",
       "15521   833.216  17.77640  -12.3  \n",
       "15790   643.667   4.65752  -12.3  \n",
       "3       788.836   5.95482  -12.3  \n",
       "16441   700.675   3.33582  -12.3  \n",
       "4       884.969   9.56272  -12.3  \n",
       "8       816.715   1.04002  -12.2  \n",
       "15958  1008.447  19.85510  -12.2  \n",
       "7       788.796   5.16332  -12.2  \n",
       "5       826.869   7.19200  -12.2  \n",
       "15165   833.793   3.47402  -12.2  \n",
       "6       769.782   4.56982  -12.2  \n",
       "16201   976.405  19.52530  -12.1  \n",
       "16523   743.091  15.94170  -12.1  \n",
       "10      812.858   7.19772  -12.1  \n",
       "9       813.874   8.02494  -12.1  \n",
       "15376   712.698   3.48020  -12.1  \n",
       "15371   739.059  13.91422  -12.1  \n",
       "13      664.654   2.76344  -12.0  \n",
       "12      803.815   7.06642  -12.0  \n",
       "11      652.922  13.07690  -12.0  \n",
       "15439   773.662  -0.63608  -12.0  \n",
       "16089   812.826   5.20852  -12.0  \n",
       "16327  1002.443  20.17600  -11.9  \n",
       "16000   688.585  -0.96276  -11.9  \n",
       "15648   552.558   3.41342  -11.9  \n",
       "15589   627.916  13.02290  -11.9  \n",
       "15058   873.281  18.86102  -11.9  \n",
       "14      638.652   2.38670  -11.9  \n",
       "15      721.698   2.32590  -11.9  \n",
       "16      880.938   5.90632  -11.9  \n",
       "17      674.638   1.62020  -11.9  \n",
       "18      690.648   2.59112  -11.9  \n",
       "25      840.832   4.69882  -11.8  \n",
       "26      754.584  -4.96410  -11.8  \n",
       "15745   951.395  20.41330  -11.8  \n",
       "15071   694.019  13.77230  -11.8  \n",
       "24      727.718   1.01472  -11.8  \n",
       "29      847.824   1.95559  -11.8  \n",
       "23      812.799   4.41760  -11.8  \n",
       "15970   849.215  17.68410  -11.8  \n",
       "22      819.731  -0.82178  -11.8  "
      ]
     },
     "execution_count": 94,
     "metadata": {},
     "output_type": "execute_result"
    }
   ],
   "source": [
    "# Append Score and Weight columns\n",
    "\n",
    "new_scores.id = new_scores.id.astype(str)\n",
    "new_scores.gen = new_scores.gen.astype(int)\n",
    "master_table.id = master_table.id.astype(str)\n",
    "master_table.gen = master_table.gen.astype(int)\n",
    "\n",
    "# Merge result csv and mastertable iwth ['id' , 'gen']\n",
    "new_table = pd.merge(master_table, new_scores, on=['id','gen'], suffixes=('_old','_new'), how='left')\n",
    "\n",
    "# Column ['score'] is replace with new value\n",
    "new_table['score'] = np.where(new_table['score_new'].isnull(), new_table['score_old'], new_table['score_new'])\n",
    "\n",
    "# Remove column ['score_old', 'score_new']\n",
    "new_table = new_table.drop(['score_old','score_new'], axis=1)\n",
    "\n",
    "# Compute the weight of smile\n",
    "new_table['weight'] = new_table['smile'].apply(lambda x: Descriptors.MolWt(Chem.MolFromSmiles(x)))\n",
    "\n",
    "# Compute LogP of smile\n",
    "new_table['logp'] = new_table['smile'].apply(lambda x: Descriptors.MolLogP(Chem.MolFromSmiles(x)))\n",
    "\n",
    "# Sort the table\n",
    "new_table = new_table.sort_values('score', ascending=True)\n",
    "new_table.head(50)"
   ]
  },
  {
   "cell_type": "code",
   "execution_count": 95,
   "metadata": {},
   "outputs": [],
   "source": [
    "# Saved the merge result to the master_table csv\n",
    "# './generations/master_results_table_gen(i-1).csv'\n",
    "\n",
    "new_table.to_csv(r'./generations/master_results_table_gen' + str(GLOBAL_GENERATION-1) + '.csv', index=False)"
   ]
  },
  {
   "cell_type": "markdown",
   "metadata": {},
   "source": [
    "###  a) Select best 35 from score (sorted)  - 55 to 10"
   ]
  },
  {
   "cell_type": "code",
   "execution_count": 16,
   "metadata": {
    "scrolled": true
   },
   "outputs": [
    {
     "data": {
      "text/plain": [
       "55"
      ]
     },
     "execution_count": 16,
     "metadata": {},
     "output_type": "execute_result"
    }
   ],
   "source": [
    "# Select top 35 ranked by score for training data to refine the molecule generator RNN\n",
    "# Set function is used to save the list in ascending order and also remove duplicate (Almost similar to java hashmap)\n",
    "\n",
    "training_smiles = list(set(list(new_table.head(55)['smile'])))\n",
    "len(training_smiles)"
   ]
  },
  {
   "cell_type": "markdown",
   "metadata": {},
   "source": [
    "### b) Select 10 based on the nearest tanimoto distance (Similarity) - 45"
   ]
  },
  {
   "cell_type": "code",
   "execution_count": 17,
   "metadata": {
    "scrolled": true
   },
   "outputs": [
    {
     "data": {
      "text/html": [
       "<div>\n",
       "<style scoped>\n",
       "    .dataframe tbody tr th:only-of-type {\n",
       "        vertical-align: middle;\n",
       "    }\n",
       "\n",
       "    .dataframe tbody tr th {\n",
       "        vertical-align: top;\n",
       "    }\n",
       "\n",
       "    .dataframe thead th {\n",
       "        text-align: right;\n",
       "    }\n",
       "</style>\n",
       "<table border=\"1\" class=\"dataframe\">\n",
       "  <thead>\n",
       "    <tr style=\"text-align: right;\">\n",
       "      <th></th>\n",
       "      <th>id</th>\n",
       "      <th>gen</th>\n",
       "      <th>smile</th>\n",
       "      <th>source</th>\n",
       "      <th>weight</th>\n",
       "      <th>logp</th>\n",
       "      <th>score</th>\n",
       "      <th>similarity_adj_score</th>\n",
       "    </tr>\n",
       "  </thead>\n",
       "  <tbody>\n",
       "    <tr>\n",
       "      <th>7829</th>\n",
       "      <td>ACJM</td>\n",
       "      <td>9</td>\n",
       "      <td>CC1CCCCCC(C)CC(C)C1</td>\n",
       "      <td>LSTM</td>\n",
       "      <td>182.351</td>\n",
       "      <td>4.6390</td>\n",
       "      <td>-6.4</td>\n",
       "      <td>-17.860186</td>\n",
       "    </tr>\n",
       "    <tr>\n",
       "      <th>8496</th>\n",
       "      <td>AALE</td>\n",
       "      <td>9</td>\n",
       "      <td>CC1CCC(C)(C)CC(C)CC(C)C1</td>\n",
       "      <td>LSTM</td>\n",
       "      <td>196.378</td>\n",
       "      <td>4.8850</td>\n",
       "      <td>-6.1</td>\n",
       "      <td>-17.429251</td>\n",
       "    </tr>\n",
       "    <tr>\n",
       "      <th>9130</th>\n",
       "      <td>AAOL</td>\n",
       "      <td>9</td>\n",
       "      <td>CC1CCCCC(C)C(C)CC(C)C1</td>\n",
       "      <td>LSTM</td>\n",
       "      <td>196.378</td>\n",
       "      <td>4.8850</td>\n",
       "      <td>-6.0</td>\n",
       "      <td>-16.990358</td>\n",
       "    </tr>\n",
       "    <tr>\n",
       "      <th>9241</th>\n",
       "      <td>ABIY</td>\n",
       "      <td>9</td>\n",
       "      <td>CCC1CCCCC(C)CC(C)C1</td>\n",
       "      <td>LSTM</td>\n",
       "      <td>182.351</td>\n",
       "      <td>4.6390</td>\n",
       "      <td>-5.9</td>\n",
       "      <td>-16.564852</td>\n",
       "    </tr>\n",
       "    <tr>\n",
       "      <th>4925</th>\n",
       "      <td>ACED</td>\n",
       "      <td>8</td>\n",
       "      <td>CC(=O)Oc1ccccccccccccccccc1O</td>\n",
       "      <td>LSTM</td>\n",
       "      <td>308.377</td>\n",
       "      <td>4.6907</td>\n",
       "      <td>-7.6</td>\n",
       "      <td>-16.371163</td>\n",
       "    </tr>\n",
       "  </tbody>\n",
       "</table>\n",
       "</div>"
      ],
      "text/plain": [
       "        id  gen                         smile source   weight    logp  score  \\\n",
       "7829  ACJM    9           CC1CCCCCC(C)CC(C)C1   LSTM  182.351  4.6390   -6.4   \n",
       "8496  AALE    9      CC1CCC(C)(C)CC(C)CC(C)C1   LSTM  196.378  4.8850   -6.1   \n",
       "9130  AAOL    9        CC1CCCCC(C)C(C)CC(C)C1   LSTM  196.378  4.8850   -6.0   \n",
       "9241  ABIY    9           CCC1CCCCC(C)CC(C)C1   LSTM  182.351  4.6390   -5.9   \n",
       "4925  ACED    8  CC(=O)Oc1ccccccccccccccccc1O   LSTM  308.377  4.6907   -7.6   \n",
       "\n",
       "      similarity_adj_score  \n",
       "7829            -17.860186  \n",
       "8496            -17.429251  \n",
       "9130            -16.990358  \n",
       "9241            -16.564852  \n",
       "4925            -16.371163  "
      ]
     },
     "execution_count": 17,
     "metadata": {},
     "output_type": "execute_result"
    }
   ],
   "source": [
    "training_fingerprints = []\n",
    "\n",
    "# Computer fingerprint\n",
    "for smile in training_smiles:\n",
    "    training_fingerprints.append(Chem.RDKFingerprint(Chem.MolFromSmiles(smile)))\n",
    "\n",
    "# Calculate the similarity score based on weight and score\n",
    "def calc_similarity_score(row):\n",
    "    fingerprint = Chem.RDKFingerprint(Chem.MolFromSmiles(row['smile']))\n",
    "    \n",
    "    # Compute the tanimoto fingerprint\n",
    "    similarity = np.max(DataStructs.BulkTanimotoSimilarity(fingerprint,training_fingerprints))\n",
    "    \n",
    "    adj_factor = (1 / similarity) **.333\n",
    "    adj_score = row['score'] * adj_factor\n",
    "    return adj_score\n",
    "\n",
    "# Copy from master table\n",
    "similarity_adjusted = new_table.copy(deep=True)\n",
    "\n",
    "# All the weight which smaller than 900\n",
    "similarity_adjusted = similarity_adjusted[(similarity_adjusted['weight'] < 900) & (similarity_adjusted[\"logp\"] < 5)]\n",
    "\n",
    "# Create a new column named similarity_adj_score, and apply the fucntion\n",
    "similarity_adjusted['similarity_adj_score'] = similarity_adjusted.apply(calc_similarity_score, axis=1)\n",
    "\n",
    "# Sort the value based on similarity_adj_score Ascending\n",
    "similarity_adjusted = similarity_adjusted.sort_values('similarity_adj_score', ascending=True)\n",
    "similarity_adjusted.head()"
   ]
  },
  {
   "cell_type": "code",
   "execution_count": 18,
   "metadata": {},
   "outputs": [
    {
     "data": {
      "text/plain": [
       "65"
      ]
     },
     "execution_count": 18,
     "metadata": {},
     "output_type": "execute_result"
    }
   ],
   "source": [
    "# Select top 5 ranked by similarity adjusted score for training data \n",
    "# to refine the molecule generator RNN (ensures diverity)\n",
    "\n",
    "training_smiles += list(similarity_adjusted.head(10)['smile'])\n",
    "len(training_smiles)"
   ]
  },
  {
   "cell_type": "markdown",
   "metadata": {},
   "source": [
    "### c) Select 10 based on the logP - 55"
   ]
  },
  {
   "cell_type": "code",
   "execution_count": 19,
   "metadata": {
    "scrolled": false
   },
   "outputs": [
    {
     "data": {
      "text/html": [
       "<div>\n",
       "<style scoped>\n",
       "    .dataframe tbody tr th:only-of-type {\n",
       "        vertical-align: middle;\n",
       "    }\n",
       "\n",
       "    .dataframe tbody tr th {\n",
       "        vertical-align: top;\n",
       "    }\n",
       "\n",
       "    .dataframe thead th {\n",
       "        text-align: right;\n",
       "    }\n",
       "</style>\n",
       "<table border=\"1\" class=\"dataframe\">\n",
       "  <thead>\n",
       "    <tr style=\"text-align: right;\">\n",
       "      <th></th>\n",
       "      <th>id</th>\n",
       "      <th>gen</th>\n",
       "      <th>smile</th>\n",
       "      <th>source</th>\n",
       "      <th>weight</th>\n",
       "      <th>logp</th>\n",
       "      <th>score</th>\n",
       "      <th>logp_adj_score</th>\n",
       "    </tr>\n",
       "  </thead>\n",
       "  <tbody>\n",
       "    <tr>\n",
       "      <th>15889</th>\n",
       "      <td>ABNS</td>\n",
       "      <td>10</td>\n",
       "      <td>COc1ccc(-c2nnnn2C2=CC=C(C(=O)Nc3nnnn3-c3ccccc3...</td>\n",
       "      <td>LSTM</td>\n",
       "      <td>458.398</td>\n",
       "      <td>0.00140</td>\n",
       "      <td>-9.3</td>\n",
       "      <td>-104.487732</td>\n",
       "    </tr>\n",
       "    <tr>\n",
       "      <th>2456</th>\n",
       "      <td>AAZP</td>\n",
       "      <td>8</td>\n",
       "      <td>COc1ccc(-c2nnnn2C2=CC=C(C(=O)Nc3nnnn3-c3ccccc3...</td>\n",
       "      <td>LSTM</td>\n",
       "      <td>458.398</td>\n",
       "      <td>0.00140</td>\n",
       "      <td>-8.8</td>\n",
       "      <td>-98.870112</td>\n",
       "    </tr>\n",
       "    <tr>\n",
       "      <th>1427</th>\n",
       "      <td>ABMJ</td>\n",
       "      <td>8</td>\n",
       "      <td>Cc1ccc(N2N=NN=NN2C2=CC=C(C(=O)NC(=O)c3nnnn3C3=...</td>\n",
       "      <td>LSTM</td>\n",
       "      <td>566.458</td>\n",
       "      <td>0.00302</td>\n",
       "      <td>-9.4</td>\n",
       "      <td>-81.757675</td>\n",
       "    </tr>\n",
       "    <tr>\n",
       "      <th>3857</th>\n",
       "      <td>ABNM</td>\n",
       "      <td>9</td>\n",
       "      <td>Cc1ccc(C(=O)Nc2ncnn2C2=CC=NN=NN2c2ccc(C(=O)NO)...</td>\n",
       "      <td>LSTM</td>\n",
       "      <td>465.390</td>\n",
       "      <td>0.00602</td>\n",
       "      <td>-8.1</td>\n",
       "      <td>-55.991535</td>\n",
       "    </tr>\n",
       "    <tr>\n",
       "      <th>16126</th>\n",
       "      <td>ABYJ</td>\n",
       "      <td>10</td>\n",
       "      <td>Cc1ccc(-c2nnnn2C2=CC=C(C(=O)NC(=O)Nc3nnnn3-c3c...</td>\n",
       "      <td>LSTM</td>\n",
       "      <td>485.424</td>\n",
       "      <td>0.01082</td>\n",
       "      <td>-9.1</td>\n",
       "      <td>-51.747182</td>\n",
       "    </tr>\n",
       "    <tr>\n",
       "      <th>...</th>\n",
       "      <td>...</td>\n",
       "      <td>...</td>\n",
       "      <td>...</td>\n",
       "      <td>...</td>\n",
       "      <td>...</td>\n",
       "      <td>...</td>\n",
       "      <td>...</td>\n",
       "      <td>...</td>\n",
       "    </tr>\n",
       "    <tr>\n",
       "      <th>6078</th>\n",
       "      <td>ABBG</td>\n",
       "      <td>3</td>\n",
       "      <td>Cc1ccc(C(=O)N2C=CN(CC(=O)Nc3ccccc3)CC2)c(=O)o1</td>\n",
       "      <td>LSTM</td>\n",
       "      <td>353.378</td>\n",
       "      <td>1.81592</td>\n",
       "      <td>-7.1</td>\n",
       "      <td>-7.331995</td>\n",
       "    </tr>\n",
       "    <tr>\n",
       "      <th>5888</th>\n",
       "      <td>AAFL</td>\n",
       "      <td>7</td>\n",
       "      <td>COC1=CC=C2C=CC=C2NC(=O)N1CCCCc1ccc(C(=O)Nc2nnn...</td>\n",
       "      <td>LSTM</td>\n",
       "      <td>587.597</td>\n",
       "      <td>1.89600</td>\n",
       "      <td>-7.2</td>\n",
       "      <td>-7.329179</td>\n",
       "    </tr>\n",
       "    <tr>\n",
       "      <th>6037</th>\n",
       "      <td>AAYX</td>\n",
       "      <td>3</td>\n",
       "      <td>CC1=CC=CC(C2=NN=NC2=O)C1</td>\n",
       "      <td>LSTM</td>\n",
       "      <td>175.191</td>\n",
       "      <td>1.85720</td>\n",
       "      <td>-7.1</td>\n",
       "      <td>-7.277319</td>\n",
       "    </tr>\n",
       "    <tr>\n",
       "      <th>5929</th>\n",
       "      <td>ABSK</td>\n",
       "      <td>6</td>\n",
       "      <td>CC1=CC=C(C(=O)Nc2nnnn2C2=CC=C(C(C)C)C2=O)C1</td>\n",
       "      <td>LSTM</td>\n",
       "      <td>311.345</td>\n",
       "      <td>1.89400</td>\n",
       "      <td>-7.1</td>\n",
       "      <td>-7.229925</td>\n",
       "    </tr>\n",
       "    <tr>\n",
       "      <th>6025</th>\n",
       "      <td>ABCI</td>\n",
       "      <td>7</td>\n",
       "      <td>Cc1ccc(N2C=CN(CC(=O)Nc3ccccc3)CC2)c(=O)[nH]1</td>\n",
       "      <td>LSTM</td>\n",
       "      <td>324.384</td>\n",
       "      <td>1.91522</td>\n",
       "      <td>-7.1</td>\n",
       "      <td>-7.203151</td>\n",
       "    </tr>\n",
       "  </tbody>\n",
       "</table>\n",
       "<p>1398 rows × 8 columns</p>\n",
       "</div>"
      ],
      "text/plain": [
       "         id  gen                                              smile source  \\\n",
       "15889  ABNS   10  COc1ccc(-c2nnnn2C2=CC=C(C(=O)Nc3nnnn3-c3ccccc3...   LSTM   \n",
       "2456   AAZP    8  COc1ccc(-c2nnnn2C2=CC=C(C(=O)Nc3nnnn3-c3ccccc3...   LSTM   \n",
       "1427   ABMJ    8  Cc1ccc(N2N=NN=NN2C2=CC=C(C(=O)NC(=O)c3nnnn3C3=...   LSTM   \n",
       "3857   ABNM    9  Cc1ccc(C(=O)Nc2ncnn2C2=CC=NN=NN2c2ccc(C(=O)NO)...   LSTM   \n",
       "16126  ABYJ   10  Cc1ccc(-c2nnnn2C2=CC=C(C(=O)NC(=O)Nc3nnnn3-c3c...   LSTM   \n",
       "...     ...  ...                                                ...    ...   \n",
       "6078   ABBG    3     Cc1ccc(C(=O)N2C=CN(CC(=O)Nc3ccccc3)CC2)c(=O)o1   LSTM   \n",
       "5888   AAFL    7  COC1=CC=C2C=CC=C2NC(=O)N1CCCCc1ccc(C(=O)Nc2nnn...   LSTM   \n",
       "6037   AAYX    3                           CC1=CC=CC(C2=NN=NC2=O)C1   LSTM   \n",
       "5929   ABSK    6        CC1=CC=C(C(=O)Nc2nnnn2C2=CC=C(C(C)C)C2=O)C1   LSTM   \n",
       "6025   ABCI    7       Cc1ccc(N2C=CN(CC(=O)Nc3ccccc3)CC2)c(=O)[nH]1   LSTM   \n",
       "\n",
       "        weight     logp  score  logp_adj_score  \n",
       "15889  458.398  0.00140   -9.3     -104.487732  \n",
       "2456   458.398  0.00140   -8.8      -98.870112  \n",
       "1427   566.458  0.00302   -9.4      -81.757675  \n",
       "3857   465.390  0.00602   -8.1      -55.991535  \n",
       "16126  485.424  0.01082   -9.1      -51.747182  \n",
       "...        ...      ...    ...             ...  \n",
       "6078   353.378  1.81592   -7.1       -7.331995  \n",
       "5888   587.597  1.89600   -7.2       -7.329179  \n",
       "6037   175.191  1.85720   -7.1       -7.277319  \n",
       "5929   311.345  1.89400   -7.1       -7.229925  \n",
       "6025   324.384  1.91522   -7.1       -7.203151  \n",
       "\n",
       "[1398 rows x 8 columns]"
      ]
     },
     "execution_count": 19,
     "metadata": {},
     "output_type": "execute_result"
    }
   ],
   "source": [
    "def calc_logp_score(row):\n",
    "    \"\"\"\n",
    "    Calculate the logP score.\n",
    "    \n",
    "    :params row: pandas row\n",
    "    \"\"\"\n",
    "    adj_factor = (2 / row['logp']) ** .333\n",
    "    \n",
    "    if adj_factor < 1:\n",
    "        adj_score = 0\n",
    "    else:\n",
    "        adj_score = row['score'] * adj_factor\n",
    "    return adj_score\n",
    "\n",
    "# Copy from master table\n",
    "logp_adjusted = new_table.copy(deep=True)\n",
    "logp_adjusted.dropna()\n",
    "\n",
    "# Select all results that have logp <= 2 (Adjust the score of the logP)\n",
    "score_threshold = -7\n",
    "logp_adjusted = logp_adjusted[(logp_adjusted[\"logp\"] <= 2) & (logp_adjusted[\"logp\"] > 0) & (logp_adjusted[\"logp\"] < 5) & (logp_adjusted[\"score\"] < score_threshold)]\n",
    "\n",
    "# Apply function\n",
    "logp_adjusted['logp_adj_score'] = logp_adjusted.apply(calc_logp_score, axis=1)\n",
    "\n",
    "# Sort the logp_adj_score\n",
    "logp_adjusted = logp_adjusted.sort_values('logp_adj_score', ascending=True)\n",
    "logp_adjusted"
   ]
  },
  {
   "cell_type": "code",
   "execution_count": 20,
   "metadata": {},
   "outputs": [
    {
     "data": {
      "text/plain": [
       "130"
      ]
     },
     "execution_count": 20,
     "metadata": {},
     "output_type": "execute_result"
    }
   ],
   "source": [
    "# Select top 10 ranked by logp adjusted score for training data \n",
    "# to refine the molecule generator RNN (ensures diverity)\n",
    "\n",
    "training_smiles += list(logp_adjusted.head(65)['smile'])\n",
    "len(training_smiles)"
   ]
  },
  {
   "cell_type": "markdown",
   "metadata": {},
   "source": [
    "### d) Select 10 based on the weight of the score - 65"
   ]
  },
  {
   "cell_type": "code",
   "execution_count": 21,
   "metadata": {
    "scrolled": true
   },
   "outputs": [
    {
     "data": {
      "text/html": [
       "<div>\n",
       "<style scoped>\n",
       "    .dataframe tbody tr th:only-of-type {\n",
       "        vertical-align: middle;\n",
       "    }\n",
       "\n",
       "    .dataframe tbody tr th {\n",
       "        vertical-align: top;\n",
       "    }\n",
       "\n",
       "    .dataframe thead th {\n",
       "        text-align: right;\n",
       "    }\n",
       "</style>\n",
       "<table border=\"1\" class=\"dataframe\">\n",
       "  <thead>\n",
       "    <tr style=\"text-align: right;\">\n",
       "      <th></th>\n",
       "      <th>id</th>\n",
       "      <th>gen</th>\n",
       "      <th>smile</th>\n",
       "      <th>source</th>\n",
       "      <th>weight</th>\n",
       "      <th>logp</th>\n",
       "      <th>score</th>\n",
       "      <th>weight_adj_score</th>\n",
       "    </tr>\n",
       "  </thead>\n",
       "  <tbody>\n",
       "    <tr>\n",
       "      <th>751</th>\n",
       "      <td>ABMD</td>\n",
       "      <td>5</td>\n",
       "      <td>CC1=CC=C2C=CC=CC=CC=C2CCC=C1</td>\n",
       "      <td>LSTM</td>\n",
       "      <td>222.331</td>\n",
       "      <td>4.8177</td>\n",
       "      <td>-9.9</td>\n",
       "      <td>-15.770554</td>\n",
       "    </tr>\n",
       "    <tr>\n",
       "      <th>84</th>\n",
       "      <td>ABBM</td>\n",
       "      <td>5</td>\n",
       "      <td>CC1=CC=CC=CC=CC=CC=CC=CC=CC=CC=C2CCC=CC=C2CC1</td>\n",
       "      <td>LSTM</td>\n",
       "      <td>380.575</td>\n",
       "      <td>8.3789</td>\n",
       "      <td>-11.2</td>\n",
       "      <td>-14.917436</td>\n",
       "    </tr>\n",
       "    <tr>\n",
       "      <th>1994</th>\n",
       "      <td>AASZ</td>\n",
       "      <td>5</td>\n",
       "      <td>CC1=CC=CC=CC=CC=C(C)C(C)C1</td>\n",
       "      <td>LSTM</td>\n",
       "      <td>200.325</td>\n",
       "      <td>4.5874</td>\n",
       "      <td>-9.0</td>\n",
       "      <td>-14.843197</td>\n",
       "    </tr>\n",
       "    <tr>\n",
       "      <th>599</th>\n",
       "      <td>AAXR</td>\n",
       "      <td>5</td>\n",
       "      <td>CC1=CC=C2CCC=CC=C2C(C(=O)Nc2ccccc2)=C1</td>\n",
       "      <td>LSTM</td>\n",
       "      <td>289.378</td>\n",
       "      <td>4.7142</td>\n",
       "      <td>-10.1</td>\n",
       "      <td>-14.737239</td>\n",
       "    </tr>\n",
       "    <tr>\n",
       "      <th>2629</th>\n",
       "      <td>AAOL</td>\n",
       "      <td>5</td>\n",
       "      <td>CC1=CC=CC=CC(F)=CC=CC=C1</td>\n",
       "      <td>LSTM</td>\n",
       "      <td>188.245</td>\n",
       "      <td>4.0245</td>\n",
       "      <td>-8.7</td>\n",
       "      <td>-14.648700</td>\n",
       "    </tr>\n",
       "  </tbody>\n",
       "</table>\n",
       "</div>"
      ],
      "text/plain": [
       "        id  gen                                          smile source  \\\n",
       "751   ABMD    5                   CC1=CC=C2C=CC=CC=CC=C2CCC=C1   LSTM   \n",
       "84    ABBM    5  CC1=CC=CC=CC=CC=CC=CC=CC=CC=CC=C2CCC=CC=C2CC1   LSTM   \n",
       "1994  AASZ    5                     CC1=CC=CC=CC=CC=C(C)C(C)C1   LSTM   \n",
       "599   AAXR    5         CC1=CC=C2CCC=CC=C2C(C(=O)Nc2ccccc2)=C1   LSTM   \n",
       "2629  AAOL    5                       CC1=CC=CC=CC(F)=CC=CC=C1   LSTM   \n",
       "\n",
       "       weight    logp  score  weight_adj_score  \n",
       "751   222.331  4.8177   -9.9        -15.770554  \n",
       "84    380.575  8.3789  -11.2        -14.917436  \n",
       "1994  200.325  4.5874   -9.0        -14.843197  \n",
       "599   289.378  4.7142  -10.1        -14.737239  \n",
       "2629  188.245  4.0245   -8.7        -14.648700  "
      ]
     },
     "execution_count": 21,
     "metadata": {},
     "output_type": "execute_result"
    }
   ],
   "source": [
    "def calc_weight_score(row):\n",
    "    \"\"\"\n",
    "    Calculate the weight.\n",
    "    \n",
    "    :params row: pandas row\n",
    "    \"\"\"\n",
    "    adj_factor = (900 / row['weight']) ** .333\n",
    "    if adj_factor < 1:\n",
    "        adj_score = 0\n",
    "    else:\n",
    "        adj_score = row['score'] * adj_factor\n",
    "    return adj_score\n",
    "\n",
    "weight_adjusted = new_table.copy(deep=True)\n",
    "weight_adjusted['weight_adj_score'] = weight_adjusted.apply(calc_weight_score, axis=1)\n",
    "weight_adjusted = weight_adjusted.sort_values('weight_adj_score', ascending=True)\n",
    "weight_adjusted.head()"
   ]
  },
  {
   "cell_type": "code",
   "execution_count": 22,
   "metadata": {
    "scrolled": true
   },
   "outputs": [
    {
     "data": {
      "text/plain": [
       "140"
      ]
     },
     "execution_count": 22,
     "metadata": {},
     "output_type": "execute_result"
    }
   ],
   "source": [
    "# Select top X ranked by similarity adjusted score for training data \n",
    "# to refine the molecule generator RNN (ensures diverity)\n",
    "\n",
    "training_smiles += list(weight_adjusted.head(10)['smile'])\n",
    "len(training_smiles)"
   ]
  },
  {
   "cell_type": "markdown",
   "metadata": {},
   "source": [
    "### e) Select 5 randomly"
   ]
  },
  {
   "cell_type": "code",
   "execution_count": 23,
   "metadata": {},
   "outputs": [
    {
     "name": "stdout",
     "output_type": "stream",
     "text": [
      "WARNING:tensorflow:From <ipython-input-23-cff5e14f5db6>:2: is_gpu_available (from tensorflow.python.framework.test_util) is deprecated and will be removed in a future version.\n",
      "Instructions for updating:\n",
      "Use `tf.config.list_physical_devices('GPU')` instead.\n"
     ]
    },
    {
     "data": {
      "text/plain": [
       "True"
      ]
     },
     "execution_count": 23,
     "metadata": {},
     "output_type": "execute_result"
    }
   ],
   "source": [
    "import tensorflow\n",
    "tensorflow.test.is_gpu_available()"
   ]
  },
  {
   "cell_type": "code",
   "execution_count": 24,
   "metadata": {},
   "outputs": [
    {
     "name": "stderr",
     "output_type": "stream",
     "text": [
      "Using TensorFlow backend.\n"
     ]
    }
   ],
   "source": [
    "import numpy as np\n",
    "from copy import copy\n",
    "\n",
    "import keras\n",
    "\n",
    "from lstm_chem.utils.config import process_config\n",
    "from lstm_chem.model import LSTMChem\n",
    "from lstm_chem.generator import LSTMChemGenerator\n",
    "from lstm_chem.trainer import LSTMChemTrainer\n",
    "from lstm_chem.data_loader import DataLoader"
   ]
  },
  {
   "cell_type": "code",
   "execution_count": 25,
   "metadata": {},
   "outputs": [
    {
     "name": "stdout",
     "output_type": "stream",
     "text": [
      "Loading model architecture from experiments/2019-12-23/LSTM_Chem/model_arch.json ...\n",
      "Loading model checkpoint from experiments/2019-12-23/LSTM_Chem/checkpoints/LSTM_Chem-baseline-model-full.hdf5 ...\n",
      "Loaded the Model.\n"
     ]
    }
   ],
   "source": [
    "# Generate some with the base original model\n",
    "\n",
    "CONFIG_FILE = 'experiments/2019-12-23/LSTM_Chem/config.json'\n",
    "config = process_config(CONFIG_FILE)\n",
    "modeler = LSTMChem(config, session='generate')\n",
    "generator = LSTMChemGenerator(modeler)"
   ]
  },
  {
   "cell_type": "code",
   "execution_count": 26,
   "metadata": {},
   "outputs": [],
   "source": [
    "sample_number = 20"
   ]
  },
  {
   "cell_type": "code",
   "execution_count": 27,
   "metadata": {
    "scrolled": false
   },
   "outputs": [
    {
     "name": "stderr",
     "output_type": "stream",
     "text": [
      "100%|██████████████████████████████████████████████████████████████████████████████████| 20/20 [00:09<00:00,  2.04it/s]\n"
     ]
    }
   ],
   "source": [
    "base_generated = generator.sample(num=sample_number)"
   ]
  },
  {
   "cell_type": "code",
   "execution_count": 28,
   "metadata": {},
   "outputs": [
    {
     "data": {
      "text/plain": [
       "145"
      ]
     },
     "execution_count": 28,
     "metadata": {},
     "output_type": "execute_result"
    }
   ],
   "source": [
    "base_generated_mols = validate_mols(base_generated)\n",
    "base_generated_smiles = convert_mols_to_smiles(base_generated_mols)\n",
    "random.shuffle(base_generated_smiles)\n",
    "random.shuffle(base_generated_smiles)\n",
    "# Select X for training data to refine the molecule generator RNN (ensures diverity)\n",
    "training_smiles += base_generated_smiles[0:5]\n",
    "len(training_smiles)"
   ]
  },
  {
   "cell_type": "code",
   "execution_count": 29,
   "metadata": {},
   "outputs": [
    {
     "data": {
      "text/html": [
       "<div>\n",
       "<style scoped>\n",
       "    .dataframe tbody tr th:only-of-type {\n",
       "        vertical-align: middle;\n",
       "    }\n",
       "\n",
       "    .dataframe tbody tr th {\n",
       "        vertical-align: top;\n",
       "    }\n",
       "\n",
       "    .dataframe thead th {\n",
       "        text-align: right;\n",
       "    }\n",
       "</style>\n",
       "<table border=\"1\" class=\"dataframe\">\n",
       "  <thead>\n",
       "    <tr style=\"text-align: right;\">\n",
       "      <th></th>\n",
       "      <th>id</th>\n",
       "      <th>gen</th>\n",
       "      <th>smile</th>\n",
       "      <th>source</th>\n",
       "      <th>weight</th>\n",
       "      <th>logp</th>\n",
       "      <th>score</th>\n",
       "    </tr>\n",
       "  </thead>\n",
       "  <tbody>\n",
       "    <tr>\n",
       "      <th>0</th>\n",
       "      <td>AAXK</td>\n",
       "      <td>9</td>\n",
       "      <td>Cc1ccc(-c2nnnn2C2CCCCC2c2ccc(-c3nnnn3-c3cccnc3...</td>\n",
       "      <td>LSTM</td>\n",
       "      <td>765.846</td>\n",
       "      <td>6.37382</td>\n",
       "      <td>-12.8</td>\n",
       "    </tr>\n",
       "    <tr>\n",
       "      <th>1</th>\n",
       "      <td>ABPG</td>\n",
       "      <td>6</td>\n",
       "      <td>CC1=CC=C(C(=O)Nc2ncnn2C2=CC=C(c3nnc(NC(=O)CC4=...</td>\n",
       "      <td>LSTM</td>\n",
       "      <td>845.876</td>\n",
       "      <td>6.83532</td>\n",
       "      <td>-12.5</td>\n",
       "    </tr>\n",
       "    <tr>\n",
       "      <th>2</th>\n",
       "      <td>AALA</td>\n",
       "      <td>6</td>\n",
       "      <td>CC1=CC=C2CCc3ccc4ccc(ccccc(-c5ccccc5)c5[nH]c(=...</td>\n",
       "      <td>LSTM</td>\n",
       "      <td>823.957</td>\n",
       "      <td>8.10040</td>\n",
       "      <td>-12.3</td>\n",
       "    </tr>\n",
       "    <tr>\n",
       "      <th>3</th>\n",
       "      <td>ABSY</td>\n",
       "      <td>8</td>\n",
       "      <td>Cc1ccc(-c2nnnn2C2CCC=C(c3nnnn3-c3ccccc3-c3cccn...</td>\n",
       "      <td>LSTM</td>\n",
       "      <td>788.836</td>\n",
       "      <td>5.95482</td>\n",
       "      <td>-12.3</td>\n",
       "    </tr>\n",
       "    <tr>\n",
       "      <th>4</th>\n",
       "      <td>ACEQ</td>\n",
       "      <td>9</td>\n",
       "      <td>Cc1ccc(-c2nnnn2C2CCCCC2C2=CC=C(C(=O)Nc3nnnn3-c...</td>\n",
       "      <td>LSTM</td>\n",
       "      <td>600.643</td>\n",
       "      <td>3.78502</td>\n",
       "      <td>-12.3</td>\n",
       "    </tr>\n",
       "  </tbody>\n",
       "</table>\n",
       "</div>"
      ],
      "text/plain": [
       "     id  gen                                              smile source  \\\n",
       "0  AAXK    9  Cc1ccc(-c2nnnn2C2CCCCC2c2ccc(-c3nnnn3-c3cccnc3...   LSTM   \n",
       "1  ABPG    6  CC1=CC=C(C(=O)Nc2ncnn2C2=CC=C(c3nnc(NC(=O)CC4=...   LSTM   \n",
       "2  AALA    6  CC1=CC=C2CCc3ccc4ccc(ccccc(-c5ccccc5)c5[nH]c(=...   LSTM   \n",
       "3  ABSY    8  Cc1ccc(-c2nnnn2C2CCC=C(c3nnnn3-c3ccccc3-c3cccn...   LSTM   \n",
       "4  ACEQ    9  Cc1ccc(-c2nnnn2C2CCCCC2C2=CC=C(C(=O)Nc3nnnn3-c...   LSTM   \n",
       "\n",
       "    weight     logp  score  \n",
       "0  765.846  6.37382  -12.8  \n",
       "1  845.876  6.83532  -12.5  \n",
       "2  823.957  8.10040  -12.3  \n",
       "3  788.836  5.95482  -12.3  \n",
       "4  600.643  3.78502  -12.3  "
      ]
     },
     "execution_count": 29,
     "metadata": {},
     "output_type": "execute_result"
    }
   ],
   "source": [
    "# Read the previous generation of csv again\n",
    "# './generations/master_results_table_gen' + str(GLOBAL_GENERATION-1) + '.csv'\n",
    "\n",
    "master_table = pd.read_csv('./generations/master_results_table_gen' + str(GLOBAL_GENERATION-1) + '.csv',sep=',')\n",
    "master_table.head()"
   ]
  },
  {
   "cell_type": "code",
   "execution_count": 30,
   "metadata": {},
   "outputs": [],
   "source": [
    "# Save the list of smiles to train on based on current generation\n",
    "with open('./generations/training/gen' + str(GLOBAL_GENERATION) + '_training.smi', 'w') as f:\n",
    "    for item in training_smiles:\n",
    "        f.write(\"%s\\n\" % item)"
   ]
  },
  {
   "cell_type": "markdown",
   "metadata": {},
   "source": [
    "# GA Cross Over and Mutation (Local)\n",
    "### f) Select 10 from the cross-over and mutation"
   ]
  },
  {
   "cell_type": "code",
   "execution_count": 31,
   "metadata": {},
   "outputs": [],
   "source": [
    "import sys\n",
    "import os\n",
    "import pathlib\n",
    "pathlib.Path().absolute()\n",
    "\n",
    "from genetic_algorithm import crossover as co\n",
    "from genetic_algorithm import mutate as mt"
   ]
  },
  {
   "cell_type": "code",
   "execution_count": 32,
   "metadata": {},
   "outputs": [],
   "source": [
    "def read_file(file_name):\n",
    "    mol_list = []\n",
    "    with open(file_name, 'r') as file:\n",
    "        for smiles in file:\n",
    "            mol_list.append(Chem.MolFromSmiles(smiles))\n",
    "\n",
    "    return mol_list"
   ]
  },
  {
   "cell_type": "code",
   "execution_count": 33,
   "metadata": {},
   "outputs": [],
   "source": [
    "def make_initial_population(population_size, file_name):\n",
    "    \"\"\"\n",
    "    :param population_size: Size of the population\n",
    "    :param file_name: filename in smi\n",
    "    :return: population(list)\n",
    "    \"\"\"\n",
    "    mol_list = read_file(file_name)\n",
    "    population = []\n",
    "    for i in range(population_size):\n",
    "        # Select n random from the population\n",
    "        population.append(random.choice(mol_list))\n",
    "\n",
    "    return population"
   ]
  },
  {
   "cell_type": "code",
   "execution_count": 34,
   "metadata": {
    "scrolled": true
   },
   "outputs": [],
   "source": [
    "def compute_logP_population(mol_list, mating_pool_size):\n",
    "    \"\"\"\n",
    "    Fitness Function. Select survivor of the population to the n number of mating pool based on the logP value. \n",
    "    \n",
    "    :param mol_list: python list of molecule in smiles\n",
    "    :param mating_pool_size: size of the mating pool\n",
    "    :return: population(python list)\n",
    "    \"\"\"\n",
    "    population = []\n",
    "    for mol in mol_list:\n",
    "        logP_val = Descriptors.MolLogP(mol)\n",
    "        mol_logP = [mol, logP_val]\n",
    "        \n",
    "        population.append(mol_logP)\n",
    "    \n",
    "    # Sort population by LogP\n",
    "    population.sort(key=lambda x:x[1])\n",
    "    \n",
    "    # find n number of mating pool size which around 1.35 - 1.8\n",
    "    best_population = [] # Ideal population\n",
    "    upper_population = []\n",
    "    lower_population = []\n",
    "    mean_logP = (1.35 + 1.8)/2\n",
    "    \n",
    "    for mol in population:\n",
    "        if 1.35 <= mol[1] <= 1.8:\n",
    "            best_population.append(mol)\n",
    "        elif mean_logP >= mol[1]:\n",
    "            upper_population.append(mol)\n",
    "        elif mean_logP <= mol[1]:\n",
    "            lower_population.append(mol)\n",
    "        \n",
    "    # Assign mating population to the best population if length is not 0\n",
    "    mating_population = []\n",
    "    if len(best_population) is not 0:\n",
    "        for mol in best_population:\n",
    "            mating_population.append(mol)\n",
    "        \n",
    "    if len(mating_population) < mating_pool_size:\n",
    "        # Remaining needed\n",
    "        remaining = mating_pool_size - len(mating_population)\n",
    "        \n",
    "        # While the list of the mating is less than remaining\n",
    "        i = 0 \n",
    "        while len(mating_population) < remaining:\n",
    "            # print(\"Total mating_population: \",len(mating_population))\n",
    "            # print(\"Total upper_population: \",len(upper_population))\n",
    "            # print(\"Total lower_population: \",len(lower_population))\n",
    "            \n",
    "            #if len(mating_population) is not 0:\n",
    "            try:\n",
    "                # print(\"upper_population\", upper_population[i])\n",
    "                mating_population.append(upper_population[i])\n",
    "            except:\n",
    "                pass\n",
    "                # print(\"Error When append upper population. Append lower population...\")\n",
    "            \n",
    "            #if len(mating_population) is not 0:\n",
    "            try:\n",
    "                # print(\"lower_population\", lower_population[i])\n",
    "                mating_population.append(lower_population[i])\n",
    "            except:\n",
    "                pass\n",
    "                # print(\"Error When append lower population. Append upper population...\")\n",
    "            \n",
    "            i+=1\n",
    "                \n",
    "    # Make Sure its is same with mating_pool_size\n",
    "    mating_population = mating_population[:mating_pool_size]\n",
    "    \n",
    "    # Sort mating_population by LogP\n",
    "    mating_population.sort(key=lambda x:x[1])\n",
    "            \n",
    "    return mating_population\n"
   ]
  },
  {
   "cell_type": "code",
   "execution_count": 35,
   "metadata": {},
   "outputs": [],
   "source": [
    "def reproduce(mating_pool, population_size, mutation_rate):\n",
    "    '''\n",
    "    Function to crossover and mutate. \n",
    "    '''\n",
    "    new_population = []\n",
    "\n",
    "    while len(new_population) < population_size:\n",
    "        parent_A = random.choice(mating_pool)\n",
    "        parent_B = random.choice(mating_pool)\n",
    "        new_child = co.crossover(parent_A, parent_B)\n",
    "\n",
    "        if new_child is not None:            \n",
    "            mutated_child = mt.mutate(new_child, mutation_rate)\n",
    "            if mutated_child is not None:\n",
    "                # print(','.join([Chem.MolToSmiles(mutated_child),Chem.MolToSmiles(new_child),Chem.MolToSmiles(parent_A),Chem.MolToSmiles(parent_B)]))\n",
    "                new_population.append(mutated_child)\n",
    "\n",
    "    return new_population"
   ]
  },
  {
   "cell_type": "code",
   "execution_count": 36,
   "metadata": {},
   "outputs": [],
   "source": [
    "# Create initial population generation 0\n",
    "population_size = 300\n",
    "population = make_initial_population(population_size, './generations/training/gen' + str(GLOBAL_GENERATION) + '_training.smi')\n"
   ]
  },
  {
   "cell_type": "markdown",
   "metadata": {},
   "source": [
    "### Check Mating Pool (10-50)"
   ]
  },
  {
   "cell_type": "code",
   "execution_count": 38,
   "metadata": {
    "scrolled": false
   },
   "outputs": [
    {
     "name": "stdout",
     "output_type": "stream",
     "text": [
      "Generation 0: Minimum, Maximum: 1.3667, 1.7672999999999996 \n",
      "\n",
      "Generation 1: Minimum, Maximum: 1.3589699999999987, 1.7632999999999999 \n",
      "\n"
     ]
    }
   ],
   "source": [
    "# Cross-Over and Mutation\n",
    "mutation_rate = 0.05\n",
    "total_generation = 5000\n",
    "mating_pool = 50 # make sure this is smaller or equal to the population \n",
    "\n",
    "# generation 0\n",
    "gen_population = reproduce(population, population_size, mutation_rate)\n",
    "new_population_list = compute_logP_population(gen_population, mating_pool)\n",
    "new_population = [mol[0] for mol in new_population_list]\n",
    "Logp = [logP[1] for logP in new_population_list]\n",
    "minimum_LogP = min(Logp)\n",
    "maximum_LogP = max(Logp)\n",
    "\n",
    "# print(\"Generation 0: \\n{}\".format(Logp))\n",
    "print(\"Generation 0: Minimum, Maximum: {}, {} \\n\".format(minimum_LogP, maximum_LogP))\n",
    "\n",
    "# generation 1 and above\n",
    "for gen in range(1, total_generation):\n",
    "    gen_population = reproduce(new_population, population_size, mutation_rate)\n",
    "    new_population_list = compute_logP_population(gen_population, mating_pool)\n",
    "    \n",
    "    new_population = [mol[0] for mol in new_population_list]\n",
    "    Logp = [logP[1] for logP in new_population_list]\n",
    "    minimum_LogP = min(Logp)\n",
    "    maximum_LogP = max(Logp)\n",
    "    \n",
    "    # print(\"Generation {}: \\n{}\".format(gen, Logp))\n",
    "    print(\"Generation {}: Minimum, Maximum: {}, {} \\n\".format(gen, minimum_LogP, maximum_LogP))\n",
    "    \n",
    "    \n",
    "    if (min(Logp) >= 1.35 and max(Logp) <= 1.8):\n",
    "        break"
   ]
  },
  {
   "cell_type": "code",
   "execution_count": 39,
   "metadata": {},
   "outputs": [
    {
     "data": {
      "text/plain": [
       "50"
      ]
     },
     "execution_count": 39,
     "metadata": {},
     "output_type": "execute_result"
    }
   ],
   "source": [
    "len(new_population)"
   ]
  },
  {
   "cell_type": "code",
   "execution_count": 40,
   "metadata": {
    "scrolled": true
   },
   "outputs": [],
   "source": [
    "# new_population_smile = validate_mols(Chem.MolToSmiles(new_population))\n",
    "new_population_smile = []\n",
    "new_population_smile = [Chem.MolToSmiles(mol) for mol in new_population]"
   ]
  },
  {
   "cell_type": "code",
   "execution_count": 41,
   "metadata": {},
   "outputs": [
    {
     "data": {
      "text/plain": [
       "['CC1CN(C(=O)c2[nH]n(-c3ccccc3)c2C(=N)NO)CC(C)O1',\n",
       " 'Cc1ccc(-c2nnnn2C2=CC=C(C(=O)NC(=O)Nc3c(C(=O)C(=O)C4=CC=CCC4=O)[nH]n3-c3ccccc3)C2=O)[nH]c1=O',\n",
       " 'CC1=CCC=N1',\n",
       " 'Cc1ccc(-c2nnnn2C2=CC=C(c3cccnc3C3=CC=C(c4nnnn4C4=CC=C(C(=O)NC(=O)Nc5cccnc5)C4=O)C3=O)C2=O)c(=O)[nH]1',\n",
       " 'Cc1ccccn1',\n",
       " 'Cc1ccccn1',\n",
       " 'Cc1ccccn1',\n",
       " 'Cc1ccccn1',\n",
       " 'Cc1ccccn1',\n",
       " 'Cc1ccccn1']"
      ]
     },
     "execution_count": 41,
     "metadata": {},
     "output_type": "execute_result"
    }
   ],
   "source": [
    "new_population_smile[0:10]"
   ]
  },
  {
   "cell_type": "code",
   "execution_count": 42,
   "metadata": {},
   "outputs": [],
   "source": [
    "new_population_smile = validate_mols(new_population_smile) # Validate\n",
    "new_population_smile = [Chem.MolToSmiles(mol) for mol in new_population] # Convert back to smile"
   ]
  },
  {
   "cell_type": "code",
   "execution_count": 43,
   "metadata": {},
   "outputs": [],
   "source": [
    "original_population_smile = [Chem.MolToSmiles(mol) for mol in population]"
   ]
  },
  {
   "cell_type": "code",
   "execution_count": 44,
   "metadata": {
    "scrolled": false
   },
   "outputs": [],
   "source": [
    "# Final Population (Cross-Over + Heuristic Population)\n",
    "population_for_tl = original_population_smile + new_population_smile\n",
    "population_for_tl = list(dict.fromkeys(population_for_tl)) # Remove Duplicate in the list\n",
    "# population_for_tl"
   ]
  },
  {
   "cell_type": "code",
   "execution_count": 45,
   "metadata": {},
   "outputs": [
    {
     "data": {
      "text/plain": [
       "161"
      ]
     },
     "execution_count": 45,
     "metadata": {},
     "output_type": "execute_result"
    }
   ],
   "source": [
    "len(population_for_tl)"
   ]
  },
  {
   "cell_type": "code",
   "execution_count": 46,
   "metadata": {},
   "outputs": [],
   "source": [
    "# Save the list of smiles to train later in Transfer learning\n",
    "with open('./generations/training/gen' + str(GLOBAL_GENERATION) + '_training.smi', 'w') as f:\n",
    "    for item in population_for_tl:\n",
    "        f.write(\"%s\\n\" % item)"
   ]
  },
  {
   "cell_type": "markdown",
   "metadata": {},
   "source": [
    "\n",
    "## Retrain the network to create molecules more like those selected above"
   ]
  },
  {
   "cell_type": "code",
   "execution_count": 47,
   "metadata": {},
   "outputs": [],
   "source": [
    "from lstm_chem.finetuner import LSTMChemFinetuner"
   ]
  },
  {
   "cell_type": "code",
   "execution_count": 48,
   "metadata": {},
   "outputs": [
    {
     "name": "stdout",
     "output_type": "stream",
     "text": [
      "batch_size: 512\n",
      "checkpoint_dir: experiments\\2019-12-23\\LSTM_Chem\\checkpoints/\n",
      "checkpoint_mode: min\n",
      "checkpoint_monitor: val_loss\n",
      "checkpoint_save_best_only: false\n",
      "checkpoint_save_weights_only: true\n",
      "checkpoint_verbose: 1\n",
      "config_file: experiments/2019-12-23/LSTM_Chem/config.json\n",
      "data_filename: ./datasets/all_smiles_clean.smi\n",
      "data_length: 0\n",
      "exp_dir: experiments\\2019-12-23\\LSTM_Chem\n",
      "exp_name: LSTM_Chem\n",
      "finetune_batch_size: 1\n",
      "finetune_data_filename: ./generations/training/gen11_training.smi\n",
      "finetune_epochs: 5\n",
      "model_arch_filename: experiments/2019-12-23/LSTM_Chem/model_arch.json\n",
      "model_weight_filename: experiments/2019-12-23/LSTM_Chem/checkpoints/finetuned_gen10.hdf5\n",
      "num_epochs: 42\n",
      "optimizer: adam\n",
      "sampling_temp: 0.75\n",
      "seed: 71\n",
      "smiles_max_length: 128\n",
      "tensorboard_log_dir: experiments\\2019-12-23\\LSTM_Chem\\logs/\n",
      "tensorboard_write_graph: true\n",
      "train_smi_max_len: 128\n",
      "units: 256\n",
      "validation_split: 0.1\n",
      "verbose_training: true\n",
      "\n"
     ]
    }
   ],
   "source": [
    "config = process_config('experiments/2019-12-23/LSTM_Chem/config.json')\n",
    "config['model_weight_filename'] = 'experiments/2019-12-23/LSTM_Chem/checkpoints/finetuned_gen' + str(GLOBAL_GENERATION-1) + '.hdf5'\n",
    "config['finetune_data_filename'] = './generations/training/gen' + str(GLOBAL_GENERATION) + '_training.smi'\n",
    "print(config)"
   ]
  },
  {
   "cell_type": "code",
   "execution_count": 49,
   "metadata": {
    "scrolled": false
   },
   "outputs": [
    {
     "name": "stdout",
     "output_type": "stream",
     "text": [
      "Loading model architecture from experiments/2019-12-23/LSTM_Chem/model_arch.json ...\n"
     ]
    },
    {
     "name": "stderr",
     "output_type": "stream",
     "text": [
      "100%|██████████████████████████████████████████████████████████████████████████████| 161/161 [00:00<00:00, 2981.46it/s]"
     ]
    },
    {
     "name": "stdout",
     "output_type": "stream",
     "text": [
      "Loading model checkpoint from experiments/2019-12-23/LSTM_Chem/checkpoints/finetuned_gen10.hdf5 ...\n",
      "Loaded the Model.\n",
      "loading SMILES...\n",
      "done.\n",
      "tokenizing SMILES...\n",
      "done.\n",
      "WARNING:tensorflow:From C:\\Users\\user\\Documents\\UTeM Year 2 Sem 2\\BITI2513 - Introduction to Data Science\\Forkwel  Corona Virus Hackathon\\fch-drug-discovery\\lstm_chem\\finetuner.py:24: Model.fit_generator (from tensorflow.python.keras.engine.training) is deprecated and will be removed in a future version.\n",
      "Instructions for updating:\n",
      "Please use Model.fit, which supports generators.\n",
      "WARNING:tensorflow:sample_weight modes were coerced from\n",
      "  ...\n",
      "    to  \n",
      "  ['...']\n",
      "Train for 161 steps\n",
      "Epoch 1/5\n"
     ]
    },
    {
     "name": "stderr",
     "output_type": "stream",
     "text": [
      "\n"
     ]
    },
    {
     "name": "stdout",
     "output_type": "stream",
     "text": [
      "WARNING:tensorflow:multiprocessing can interact badly with TensorFlow, causing nondeterministic deadlocks. For high performance data pipelines tf.data is recommended.\n",
      "152/161 [===========================>..] - ETA: 0s - loss: 0.7366 - acc: 0.8094 - mae: 0.0103WARNING:tensorflow:multiprocessing can interact badly with TensorFlow, causing nondeterministic deadlocks. For high performance data pipelines tf.data is recommended.\n",
      "161/161 [==============================] - 18s 110ms/step - loss: 0.7259 - acc: 0.8105 - mae: 0.0103\n",
      "Epoch 2/5\n",
      "WARNING:tensorflow:multiprocessing can interact badly with TensorFlow, causing nondeterministic deadlocks. For high performance data pipelines tf.data is recommended.\n",
      "152/161 [===========================>..] - ETA: 1s - loss: 0.6965 - acc: 0.8056 - mae: 0.0105WARNING:tensorflow:multiprocessing can interact badly with TensorFlow, causing nondeterministic deadlocks. For high performance data pipelines tf.data is recommended.\n",
      "161/161 [==============================] - 19s 116ms/step - loss: 0.6835 - acc: 0.8084 - mae: 0.0103\n",
      "Epoch 3/5\n",
      "WARNING:tensorflow:multiprocessing can interact badly with TensorFlow, causing nondeterministic deadlocks. For high performance data pipelines tf.data is recommended.\n",
      "152/161 [===========================>..] - ETA: 1s - loss: 0.6597 - acc: 0.8120 - mae: 0.0103WARNING:tensorflow:multiprocessing can interact badly with TensorFlow, causing nondeterministic deadlocks. For high performance data pipelines tf.data is recommended.\n",
      "161/161 [==============================] - 19s 116ms/step - loss: 0.6570 - acc: 0.8124 - mae: 0.0103\n",
      "Epoch 4/5\n",
      "WARNING:tensorflow:multiprocessing can interact badly with TensorFlow, causing nondeterministic deadlocks. For high performance data pipelines tf.data is recommended.\n",
      "152/161 [===========================>..] - ETA: 0s - loss: 0.5913 - acc: 0.8243 - mae: 0.0096WARNING:tensorflow:multiprocessing can interact badly with TensorFlow, causing nondeterministic deadlocks. For high performance data pipelines tf.data is recommended.\n",
      "161/161 [==============================] - 17s 108ms/step - loss: 0.5986 - acc: 0.8221 - mae: 0.0097\n",
      "Epoch 5/5\n",
      "WARNING:tensorflow:multiprocessing can interact badly with TensorFlow, causing nondeterministic deadlocks. For high performance data pipelines tf.data is recommended.\n",
      "152/161 [===========================>..] - ETA: 0s - loss: 0.5682 - acc: 0.8348 - mae: 0.0091WARNING:tensorflow:multiprocessing can interact badly with TensorFlow, causing nondeterministic deadlocks. For high performance data pipelines tf.data is recommended.\n",
      "161/161 [==============================] - 17s 108ms/step - loss: 0.5644 - acc: 0.8318 - mae: 0.0093\n"
     ]
    }
   ],
   "source": [
    "modeler = LSTMChem(config, session='finetune')\n",
    "finetune_dl = DataLoader(config, data_type='finetune')\n",
    "\n",
    "finetuner = LSTMChemFinetuner(modeler, finetune_dl)\n",
    "history = finetuner.finetune()"
   ]
  },
  {
   "cell_type": "code",
   "execution_count": 50,
   "metadata": {},
   "outputs": [
    {
     "data": {
      "image/png": "[encoded data removed]",
      "text/plain": [
       "<Figure size 432x288 with 1 Axes>"
      ]
     },
     "metadata": {
      "needs_background": "light"
     },
     "output_type": "display_data"
    }
   ],
   "source": [
    "from matplotlib import pyplot\n",
    "\n",
    "pyplot.plot(history.history['loss'])\n",
    "pyplot.ylabel('loss')\n",
    "pyplot.xlabel('epoch')\n",
    "pyplot.legend(['train', 'validation'], loc='upper right')\n",
    "pyplot.show()"
   ]
  },
  {
   "cell_type": "code",
   "execution_count": 51,
   "metadata": {},
   "outputs": [],
   "source": [
    "finetuner.model.save_weights('experiments/2019-12-23/LSTM_Chem/checkpoints/finetuned_gen' + str(GLOBAL_GENERATION) + '.hdf5')"
   ]
  },
  {
   "cell_type": "code",
   "execution_count": 52,
   "metadata": {},
   "outputs": [
    {
     "name": "stdout",
     "output_type": "stream",
     "text": [
      "Loading model architecture from experiments/2019-12-23/LSTM_Chem/model_arch.json ...\n",
      "Loading model checkpoint from experiments/2019-12-23/LSTM_Chem/checkpoints/finetuned_gen11.hdf5 ...\n",
      "Loaded the Model.\n",
      "batch_size: 512\n",
      "checkpoint_dir: experiments\\2019-12-23\\LSTM_Chem\\checkpoints/\n",
      "checkpoint_mode: min\n",
      "checkpoint_monitor: val_loss\n",
      "checkpoint_save_best_only: false\n",
      "checkpoint_save_weights_only: true\n",
      "checkpoint_verbose: 1\n",
      "config_file: experiments/2019-12-23/LSTM_Chem/config.json\n",
      "data_filename: ./datasets/all_smiles_clean.smi\n",
      "data_length: 0\n",
      "exp_dir: experiments\\2019-12-23\\LSTM_Chem\n",
      "exp_name: LSTM_Chem\n",
      "finetune_batch_size: 1\n",
      "finetune_data_filename: ./generations/training/gen11_training.smi\n",
      "finetune_epochs: 5\n",
      "model_arch_filename: experiments/2019-12-23/LSTM_Chem/model_arch.json\n",
      "model_weight_filename: experiments/2019-12-23/LSTM_Chem/checkpoints/finetuned_gen11.hdf5\n",
      "num_epochs: 42\n",
      "optimizer: adam\n",
      "sampling_temp: 0.75\n",
      "seed: 71\n",
      "smiles_max_length: 128\n",
      "tensorboard_log_dir: experiments\\2019-12-23\\LSTM_Chem\\logs/\n",
      "tensorboard_write_graph: true\n",
      "train_smi_max_len: 128\n",
      "units: 256\n",
      "validation_split: 0.1\n",
      "verbose_training: true\n",
      "\n"
     ]
    }
   ],
   "source": [
    "# used the fine tuned weight to generate 5k of data\n",
    "config['model_weight_filename'] = 'experiments/2019-12-23/LSTM_Chem/checkpoints/finetuned_gen' + str(GLOBAL_GENERATION) + '.hdf5'\n",
    "modeler = LSTMChem(config, session='generate')\n",
    "generator = LSTMChemGenerator(modeler)\n",
    "print(config)"
   ]
  },
  {
   "cell_type": "code",
   "execution_count": 53,
   "metadata": {
    "scrolled": true
   },
   "outputs": [
    {
     "name": "stderr",
     "output_type": "stream",
     "text": [
      "100%|████████████████████████████████████████████████████████████████████████████| 5000/5000 [1:33:48<00:00,  1.13s/it]\n"
     ]
    }
   ],
   "source": [
    "sample_number = 5000\n",
    "sampled_smiles = generator.sample(num=sample_number)"
   ]
  },
  {
   "cell_type": "code",
   "execution_count": 54,
   "metadata": {},
   "outputs": [
    {
     "name": "stdout",
     "output_type": "stream",
     "text": [
      "Validity:  73.70%\n",
      "Uniqueness:  51.72%\n",
      "Originality:  100.00%\n"
     ]
    }
   ],
   "source": [
    "valid_mols = []\n",
    "for smi in sampled_smiles:\n",
    "    mol = Chem.MolFromSmiles(smi)\n",
    "    if mol is not None:\n",
    "        valid_mols.append(mol)\n",
    "# low validity\n",
    "print('Validity: ', f'{len(valid_mols) / sample_number:.2%}')\n",
    "valid_smiles = [Chem.MolToSmiles(mol) for mol in valid_mols]\n",
    "\n",
    "# high uniqueness\n",
    "print('Uniqueness: ', f'{len(set(valid_smiles)) / len(valid_smiles):.2%}')\n",
    "\n",
    "# Of valid smiles generated, how many are truly original vs ocurring in the training data\n",
    "import pandas as pd\n",
    "training_data = pd.read_csv('./datasets/all_smiles_clean.smi', header=None)\n",
    "training_set = set(list(training_data[0]))\n",
    "original = []\n",
    "for smile in list(set(valid_smiles)):\n",
    "    if not smile in training_set:\n",
    "        original.append(smile)\n",
    "print('Originality: ', f'{len(set(original)) / len(set(valid_smiles)):.2%}')"
   ]
  },
  {
   "cell_type": "code",
   "execution_count": 55,
   "metadata": {},
   "outputs": [
    {
     "data": {
      "text/plain": [
       "1906"
      ]
     },
     "execution_count": 55,
     "metadata": {},
     "output_type": "execute_result"
    }
   ],
   "source": [
    "valid_smiles = list(set(valid_smiles))\n",
    "len(valid_smiles)"
   ]
  },
  {
   "cell_type": "code",
   "execution_count": 56,
   "metadata": {},
   "outputs": [],
   "source": [
    "mols_for_next_generation = validate_mols(valid_smiles)"
   ]
  },
  {
   "cell_type": "raw",
   "metadata": {},
   "source": [
    "# take the valid smiles from above and run them through process \n",
    "# to add to tracking table and to generate next PyRx testing data\n",
    "mols_for_next_generation = validate_mols(valid_smiles)\n",
    "\n",
    "# Get the master table from previous generations and append it \n",
    "master_table = pd.read_csv('./generations/master_results_table_gen' + str(GLOBAL_GENERATION-1) +'.csv',sep=',')\n",
    "new_mols_to_test = append_to_tracking_table(master_table,mols_for_next_generation, 'generated', GLOBAL_GENERATION)\n",
    "mols_for_pd = new_mols_to_test[0]\n",
    "mols_for_export = new_mols_to_test[1]\n",
    "\n",
    "# Save the whole details in new table with current generations\n",
    "master_table = master_table.append(mols_for_pd)\n",
    "master_table = master_table.reset_index(drop=True)\n",
    "master_table.to_csv(r'./generations/master_results_table_gen' + str(GLOBAL_GENERATION) + '.csv', index=False)"
   ]
  },
  {
   "cell_type": "markdown",
   "metadata": {},
   "source": [
    "# Cross-Over and Mutation Part 2 (Local)"
   ]
  },
  {
   "cell_type": "code",
   "execution_count": 57,
   "metadata": {},
   "outputs": [
    {
     "name": "stdout",
     "output_type": "stream",
     "text": [
      "Generation 0: Minimum, Maximum: 1.380299999999999, 1.7859199999999995 \n",
      "\n",
      "Generation 1: Minimum, Maximum: 1.3766999999999996, 1.7859199999999993 \n",
      "\n"
     ]
    }
   ],
   "source": [
    "# Cross-Over and Mutation\n",
    "mutation_rate = 0.05\n",
    "total_generation = 5000\n",
    "mating_pool = 50 # make sure this is smaller or equal to the population \n",
    "\n",
    "# generation 0\n",
    "gen_population = reproduce(mols_for_next_generation, population_size, mutation_rate)\n",
    "new_population_list = compute_logP_population(gen_population, mating_pool)\n",
    "new_population = [mol[0] for mol in new_population_list]\n",
    "Logp = [logP[1] for logP in new_population_list]\n",
    "minimum_LogP = min(Logp)\n",
    "maximum_LogP = max(Logp)\n",
    "\n",
    "# print(\"Generation 0: \\n{}\".format(Logp))\n",
    "print(\"Generation 0: Minimum, Maximum: {}, {} \\n\".format(minimum_LogP, maximum_LogP))\n",
    "\n",
    "# generation 1 and above\n",
    "for gen in range(1, total_generation):\n",
    "    gen_population = reproduce(new_population, population_size, mutation_rate)\n",
    "    new_population_list = compute_logP_population(gen_population, mating_pool)\n",
    "    \n",
    "    new_population = [mol[0] for mol in new_population_list]\n",
    "    Logp = [logP[1] for logP in new_population_list]\n",
    "    minimum_LogP = min(Logp)\n",
    "    maximum_LogP = max(Logp)\n",
    "    \n",
    "    print(\"Generation {}: Minimum, Maximum: {}, {} \\n\".format(gen, minimum_LogP, maximum_LogP))\n",
    "    \n",
    "    if (min(Logp) >= 1.35 and max(Logp) <= 1.8):\n",
    "        break"
   ]
  },
  {
   "cell_type": "code",
   "execution_count": 58,
   "metadata": {},
   "outputs": [],
   "source": [
    "population_co_after_train = [Chem.MolToSmiles(mol) for mol in new_population] # Convert to smile\n",
    "population_co_after_train = validate_mols(population_co_after_train) # Validate molecule\n",
    "population_co_after_train = list(dict.fromkeys(population_co_after_train)) # Remove Duplicate in the list"
   ]
  },
  {
   "cell_type": "code",
   "execution_count": 59,
   "metadata": {},
   "outputs": [
    {
     "data": {
      "text/plain": [
       "[<rdkit.Chem.rdchem.Mol at 0x1f768bae3f8>,\n",
       " <rdkit.Chem.rdchem.Mol at 0x1f768bb2d98>,\n",
       " <rdkit.Chem.rdchem.Mol at 0x1f8092279d0>,\n",
       " <rdkit.Chem.rdchem.Mol at 0x1f768baea28>,\n",
       " <rdkit.Chem.rdchem.Mol at 0x1f768bae348>]"
      ]
     },
     "execution_count": 59,
     "metadata": {},
     "output_type": "execute_result"
    }
   ],
   "source": [
    "new_population[:5]"
   ]
  },
  {
   "cell_type": "code",
   "execution_count": 60,
   "metadata": {},
   "outputs": [],
   "source": [
    "# Append the cross-over result to the mols for export\n",
    "# population_co_after_train: This is from the local cross-over\n",
    "# mols_for_next_generation: This is from the generated 5k data\n",
    "# mols_for_export: Combine mols_for_next_generation + population_co_after_train\n",
    "\n",
    "mols_for_export = mols_for_next_generation + population_co_after_train\n",
    "\n",
    "mols_crossover = population_co_after_train\n",
    "mols_transfer_learning = mols_for_next_generation"
   ]
  },
  {
   "cell_type": "code",
   "execution_count": 61,
   "metadata": {},
   "outputs": [],
   "source": [
    "# Change the variables from mols_for_export -> valid_smiles\n",
    "\n",
    "mols_crossover = validate_mols([Chem.MolToSmiles(mol) for mol in mols_crossover])\n",
    "mols_transfer_learning = validate_mols([Chem.MolToSmiles(mol) for mol in mols_transfer_learning])\n",
    "\n",
    "valid_smiles_crossover = list(set(mols_crossover))\n",
    "valid_smiles_transfer_learning = list(set(mols_transfer_learning))\n"
   ]
  },
  {
   "cell_type": "code",
   "execution_count": 62,
   "metadata": {},
   "outputs": [],
   "source": [
    "valid_smiles_crossover_desc = []\n",
    "valid_smiles_transfer_learning_desc = []\n",
    "\n",
    "for smiles in valid_smiles_crossover:\n",
    "    valid_smiles_crossover_desc.append([smiles, 'GA'])\n",
    "    \n",
    "for smiles in valid_smiles_transfer_learning:\n",
    "    valid_smiles_transfer_learning_desc.append([smiles, 'LSTM'])"
   ]
  },
  {
   "cell_type": "code",
   "execution_count": 63,
   "metadata": {},
   "outputs": [
    {
     "data": {
      "text/plain": [
       "1953"
      ]
     },
     "execution_count": 63,
     "metadata": {},
     "output_type": "execute_result"
    }
   ],
   "source": [
    "mols_ready_append = valid_smiles_crossover_desc + valid_smiles_transfer_learning_desc\n",
    "len(mols_ready_append)"
   ]
  },
  {
   "cell_type": "code",
   "execution_count": 64,
   "metadata": {},
   "outputs": [
    {
     "data": {
      "text/plain": [
       "11"
      ]
     },
     "execution_count": 64,
     "metadata": {},
     "output_type": "execute_result"
    }
   ],
   "source": [
    "GLOBAL_GENERATION"
   ]
  },
  {
   "cell_type": "code",
   "execution_count": 65,
   "metadata": {
    "scrolled": true
   },
   "outputs": [],
   "source": [
    "# take the valid smiles from above and run them through process \n",
    "# to add to tracking table and to generate next PyRx testing data\n",
    "\n",
    "# Get the master table from previous generations and append it \n",
    "master_table = pd.read_csv('./generations/master_results_table_gen' + str(GLOBAL_GENERATION-1) +'.csv',sep=',')\n",
    "\n",
    "# dropping ALL duplicate values \n",
    "master_table.drop_duplicates(subset =\"smile\", keep = False, inplace = True) \n",
    "\n",
    "# Add transfer learning molecule to the master table\n",
    "new_mols_to_test = append_to_tracking_table(master_table, mols_ready_append, GLOBAL_GENERATION)\n",
    "mols_for_pd = new_mols_to_test[0]\n",
    "mols_for_export = new_mols_to_test[1]\n",
    "\n",
    "# Save the whole details in new table with current generations\n",
    "master_table = master_table.append(mols_for_pd)\n",
    "master_table = master_table.reset_index(drop=True)\n",
    "master_table.to_csv(r'./generations/master_results_table_gen' + str(GLOBAL_GENERATION) + '.csv', index=False)"
   ]
  },
  {
   "cell_type": "code",
   "execution_count": 66,
   "metadata": {},
   "outputs": [
    {
     "data": {
      "text/plain": [
       "'./generations/master_results_table_gen11.csv'"
      ]
     },
     "execution_count": 66,
     "metadata": {},
     "output_type": "execute_result"
    }
   ],
   "source": [
    "'./generations/master_results_table_gen' + str(GLOBAL_GENERATION) +'.csv'"
   ]
  },
  {
   "cell_type": "code",
   "execution_count": 67,
   "metadata": {
    "scrolled": true
   },
   "outputs": [
    {
     "data": {
      "text/plain": [
       "(18501, 7)"
      ]
     },
     "execution_count": 67,
     "metadata": {},
     "output_type": "execute_result"
    }
   ],
   "source": [
    "master_table.shape"
   ]
  },
  {
   "cell_type": "code",
   "execution_count": 68,
   "metadata": {
    "scrolled": true
   },
   "outputs": [
    {
     "data": {
      "text/plain": [
       "1953"
      ]
     },
     "execution_count": 68,
     "metadata": {},
     "output_type": "execute_result"
    }
   ],
   "source": [
    "len(mols_for_export)"
   ]
  },
  {
   "cell_type": "code",
   "execution_count": 69,
   "metadata": {},
   "outputs": [],
   "source": [
    "# dropping ALL duplicate values \n",
    "master_table.drop_duplicates(subset =\"smile\", keep = False, inplace = True) "
   ]
  },
  {
   "cell_type": "code",
   "execution_count": 70,
   "metadata": {},
   "outputs": [
    {
     "name": "stdout",
     "output_type": "stream",
     "text": [
      "ok\n"
     ]
    }
   ],
   "source": [
    "write_gen_to_sdf(mols_for_export, GLOBAL_GENERATION, 6000)\n",
    "print('ok')"
   ]
  },
  {
   "cell_type": "code",
   "execution_count": null,
   "metadata": {},
   "outputs": [],
   "source": []
  },
  {
   "cell_type": "code",
   "execution_count": null,
   "metadata": {},
   "outputs": [],
   "source": []
  },
  {
   "cell_type": "code",
   "execution_count": null,
   "metadata": {},
   "outputs": [],
   "source": []
  },
  {
   "cell_type": "code",
   "execution_count": null,
   "metadata": {},
   "outputs": [],
   "source": []
  }
 ],
 "metadata": {
  "kernelspec": {
   "display_name": "Python 3",
   "language": "python",
   "name": "python3"
  },
  "language_info": {
   "codemirror_mode": {
    "name": "ipython",
    "version": 3
   },
   "file_extension": ".py",
   "mimetype": "text/x-python",
   "name": "python",
   "nbconvert_exporter": "python",
   "pygments_lexer": "ipython3",
   "version": "3.6.10"
  }
 },
 "nbformat": 4,
 "nbformat_minor": 4
}
