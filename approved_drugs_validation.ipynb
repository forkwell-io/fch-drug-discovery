{
 "cells": [
  {
   "cell_type": "code",
   "execution_count": 1,
   "metadata": {},
   "outputs": [
    {
     "name": "stderr",
     "output_type": "stream",
     "text": [
      "C:\\Users\\user\\Anaconda3\\envs\\drug_discovery\\lib\\site-packages\\gensim\\utils.py:1197: UserWarning: detected Windows; aliasing chunkize to chunkize_serial\n",
      "  warnings.warn(\"detected Windows; aliasing chunkize to chunkize_serial\")\n"
     ]
    }
   ],
   "source": [
    "from gensim.models import word2vec\n",
    "from sklearn.preprocessing import StandardScaler\n",
    "import matplotlib.pyplot as plt\n",
    "import re\n",
    "import os\n",
    "import tqdm\n",
    "import pickle\n",
    "import biovec\n",
    "from mypackages.smilesvec import *\n",
    "from mypackages.deepchem import *\n",
    "from mypackages.purple_teletubbies import *\n",
    "import numpy as np\n",
    "import pandas as pd\n",
    "pd.set_option('display.max_columns', 100)"
   ]
  },
  {
   "cell_type": "markdown",
   "metadata": {},
   "source": [
    "# Data"
   ]
  },
  {
   "cell_type": "code",
   "execution_count": null,
   "metadata": {},
   "outputs": [],
   "source": [
    "drugbank = pd.read_csv('data/dtba_prediction/drugbank.csv')\n",
    "drugcentral = pd.read_csv('data/dtba_predction/drugcentral.csv')"
   ]
  },
  {
   "cell_type": "code",
   "execution_count": null,
   "metadata": {},
   "outputs": [],
   "source": [
    "drugbank.dropna(subset=['SMILES'], inplace=True)\n",
    "drugcentral.dropna(subset=['SMILES'], inplace=True)"
   ]
  },
  {
   "cell_type": "code",
   "execution_count": null,
   "metadata": {},
   "outputs": [],
   "source": [
    "main_protease = 'SGFRKMAFPSGKVEGCMVQVTCGTTTLNGLWLDDVVYCPRHVICTSEDMLNPNYEDLLIRKSNHNFLVQAGNVQLRVIGHSMQNCVLKLKVDTANPKTPKYKFVRIQPGQTFSVLACYNGSPSGVYQCAMRPNFTIKGSFLNGSCGSVGFNIDYDCVSFCYMHHMELPTGVHAGTDLEGNFYGPFVDRQTAQAAGTDTTITVNVLAWLYAAVINGDRWFLNRFTTTLNDFNLVAMKYNYEPLTQDHVDILGPLSAQTGIAVLDMCASLKELLQNGMNGRTILGSALLEDEFTPFDVVRQCSGVTFQ'"
   ]
  },
  {
   "cell_type": "code",
   "execution_count": null,
   "metadata": {},
   "outputs": [],
   "source": [
    "pv = np.sum(protvec.to_vecs(main_protease), axis=0)"
   ]
  },
  {
   "cell_type": "markdown",
   "metadata": {},
   "source": [
    "# Embedding"
   ]
  },
  {
   "cell_type": "code",
   "execution_count": null,
   "metadata": {},
   "outputs": [],
   "source": [
    "protvec = word2vec.Word2Vec.load('model/protvec.model')\n",
    "smilesvec = word2vec.Word2Vec.load('model/smilesvec.model')"
   ]
  },
  {
   "cell_type": "code",
   "execution_count": null,
   "metadata": {},
   "outputs": [],
   "source": [
    "chain_col_name = ['chain_'+str(i) for i in range(1, 20)]\n",
    "pv_col_name = ['pv_'+str(i) for i in range(1, 101)]\n",
    "sv_col_name = ['sv_'+str(i) for i in range(1, 101)]\n",
    "dc_col_name = ['dc_'+str(i) for i in range(1, 112)]\n",
    "types = {c: np.float64 for c in ['molwt'] + pv_col_name + sv_col_name + dc_col_name}"
   ]
  },
  {
   "cell_type": "code",
   "execution_count": null,
   "metadata": {},
   "outputs": [],
   "source": [
    "missed_smiles = [smiles for smiles in set(drugcentral.SMILES).union(set(drugbank.SMILES)) if not smilesvec.has_vocab(smiles) and Chem.MolFromSmiles(smiles)]"
   ]
  },
  {
   "cell_type": "code",
   "execution_count": null,
   "metadata": {},
   "outputs": [],
   "source": [
    "smilesvec.online_train(missed_smiles)"
   ]
  },
  {
   "cell_type": "code",
   "execution_count": null,
   "metadata": {},
   "outputs": [],
   "source": [
    "def generate_features(data):\n",
    "    new_cols = list(data.columns.values) + ['molwt']\n",
    "    new_cols.extend(pv_col_name)\n",
    "    new_cols.extend(sv_col_name)\n",
    "    new_cols.extend(dc_col_name)\n",
    "    ll = []\n",
    "    feat = RDKitDescriptors()\n",
    "    for i, row in tqdm.tqdm(data.iterrows()):\n",
    "        mol = Chem.MolFromSmiles(row['SMILES'])\n",
    "        if not mol:\n",
    "            continue\n",
    "        \n",
    "        smiles = row['SMILES']\n",
    "        if not smilesvec.has_vocab(smiles):\n",
    "            print(smiles)\n",
    "            smilesvec.online_train([smiles])\n",
    "        sv = smilesvec.to_vec(smiles)\n",
    "        \n",
    "        dc = feat.featurize([mol])\n",
    "        \n",
    "        molwt = Chem.Descriptors.MolWt(mol)\n",
    "        ll.append(np.concatenate([row, [molwt], pv, sv, dc[0]]))\n",
    "    arr = np.vstack(ll)\n",
    "    full_df = pd.DataFrame(arr)\n",
    "    full_df = full_df.astype(types)\n",
    "    full_df.frop(['dc_10', 'dc_11', 'dc_12', 'dc_13', 'dc_29'], axis=1, inplace=True)\n",
    "    return full_df"
   ]
  },
  {
   "cell_type": "code",
   "execution_count": null,
   "metadata": {},
   "outputs": [],
   "source": [
    "featured_drugcentral = generate_features(drugcentral)\n",
    "featured_drugbank = generate_features(drugbank)"
   ]
  },
  {
   "cell_type": "code",
   "execution_count": null,
   "metadata": {},
   "outputs": [],
   "source": [
    "dc_features = torch.from_numpy(featured_drugcentral.drop(['ID', 'SMILES'], axis=1).values)\n",
    "db_features = torch.from_numpy(featured_drugbank.drop(['DrugBank ID', 'Name', 'SMILES'], axis=1).values)"
   ]
  },
  {
   "cell_type": "markdown",
   "metadata": {},
   "source": [
    "# Prediction"
   ]
  },
  {
   "cell_type": "code",
   "execution_count": null,
   "metadata": {},
   "outputs": [],
   "source": [
    "standardscaler = pickle.load(open('model/standardscaler', 'rb'))\n",
    "dc_features = standardscaler.transform(dc_features)\n",
    "db_features = standardscaler.transfrom(db_features)"
   ]
  },
  {
   "cell_type": "code",
   "execution_count": null,
   "metadata": {},
   "outputs": [],
   "source": [
    "model = purple_teletubbies()\n",
    "model.load_state_dict(torch.load('model/purple_teletubbies.model'))\n",
    "\n",
    "dc_features_tensors = torch.from_numpy(dc_features).float()\n",
    "db_features_tensors = torch.from_numpy(db_features).float()\n",
    "featured_drugcentral['prediction'] = model(dc_features_tensors).reshape(-1).data\n",
    "featured_drugbank['prediction'] = model(db_features_tensors).reshape(-1).data"
   ]
  },
  {
   "cell_type": "code",
   "execution_count": null,
   "metadata": {},
   "outputs": [],
   "source": [
    "featured_drugcentral.to_csv('data/dtba_prediction/drugcentral_prediction.csv')\n",
    "featured_drugbank.to_csv('data/dtba_prediction/drugbank_prediction.csv')"
   ]
  }
 ],
 "metadata": {
  "kernelspec": {
   "display_name": "Python 3",
   "language": "python",
   "name": "python3"
  },
  "language_info": {
   "codemirror_mode": {
    "name": "ipython",
    "version": 3
   },
   "file_extension": ".py",
   "mimetype": "text/x-python",
   "name": "python",
   "nbconvert_exporter": "python",
   "pygments_lexer": "ipython3",
   "version": "3.7.4"
  }
 },
 "nbformat": 4,
 "nbformat_minor": 2
}
