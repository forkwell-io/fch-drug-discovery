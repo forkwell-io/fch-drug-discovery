{
 "cells": [
  {
   "cell_type": "code",
   "execution_count": null,
   "metadata": {},
   "outputs": [],
   "source": [
    "import rdkit.Chem as Chem\n",
    "import mol2vec\n",
    "import gensim\n",
    "import pickle\n",
    "import tqdm\n",
    "import pandas as pd\n",
    "import numpy as np"
   ]
  },
  {
   "cell_type": "code",
   "execution_count": null,
   "metadata": {},
   "outputs": [],
   "source": [
    "!wget https://www.ebi.ac.uk/chembl/dynamic-downloads/CHEMBL26-chembl_26_molecule-SnbhpLn6ptChj7FypS2n3HW9-ABh0Wgfj8HpoX_agpU=.csv.gz -o chembl_molecule.csv.gz\n",
    "!gunzip CHEMBL26-chembl_26_molecule-SnbhpLn6ptChj7FypS2n3HW9-ABh0Wgfj8HpoX_agpU=.csv.gz\n",
    "!mv CHEMBL26-chembl_26_molecule-SnbhpLn6ptChj7FypS2n3HW9-ABh0Wgfj8HpoX_agpU=.csv CHEMBL26.csv"
   ]
  },
  {
   "cell_type": "code",
   "execution_count": null,
   "metadata": {},
   "outputs": [],
   "source": [
    "bindingdb = pd.read_csv('data/proprocessing/cleaned_bindingdb.csv')\n",
    "bindingdb_smiles = bindingdb['Ligand SMILES'].dropna().unique()\n",
    "del bindingdb"
   ]
  },
  {
   "cell_type": "code",
   "execution_count": null,
   "metadata": {},
   "outputs": [],
   "source": [
    "!head CHEMBL26.csv"
   ]
  },
  {
   "cell_type": "code",
   "execution_count": null,
   "metadata": {},
   "outputs": [],
   "source": [
    "chembl = pd.read_csv('CHEMBL26.csv', sep=';')\n",
    "chembl_smiles = chembl.Smiles.dropna().unique()"
   ]
  },
  {
   "cell_type": "code",
   "execution_count": null,
   "metadata": {},
   "outputs": [],
   "source": [
    "smiles = set(chembl_smiles).union(set(bindingdb_smiles))"
   ]
  },
  {
   "cell_type": "code",
   "execution_count": null,
   "metadata": {},
   "outputs": [],
   "source": [
    "filtered_smiles = []\n",
    "for smi in tqdm.tqdm(smiles):\n",
    "    if Chem.MolFromSmiles(smi):\n",
    "        filtered_smiles.append(smi)\n",
    "filtered_smiles = list(set(filtered_smiles))"
   ]
  },
  {
   "cell_type": "code",
   "execution_count": null,
   "metadata": {},
   "outputs": [],
   "source": [
    "with open('collected_smiles.txt', 'w+') as f:\n",
    "    for smi in filtered_smiles:\n",
    "        f.write(smi+'\\n')"
   ]
  },
  {
   "cell_type": "code",
   "execution_count": null,
   "metadata": {},
   "outputs": [],
   "source": [
    "!wc -l collected_smiles.txt"
   ]
  }
 ],
 "metadata": {
  "kernelspec": {
   "display_name": "Python 3",
   "language": "python",
   "name": "python3"
  },
  "language_info": {
   "codemirror_mode": {
    "name": "ipython",
    "version": 3
   },
   "file_extension": ".py",
   "mimetype": "text/x-python",
   "name": "python",
   "nbconvert_exporter": "python",
   "pygments_lexer": "ipython3",
   "version": "3.7.4"
  }
 },
 "nbformat": 4,
 "nbformat_minor": 2
}
