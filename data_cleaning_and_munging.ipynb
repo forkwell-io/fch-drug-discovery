{
 "cells": [
  {
   "cell_type": "code",
   "execution_count": null,
   "metadata": {},
   "outputs": [],
   "source": [
    "from rdkit.Chem import Descriptors\n",
    "import rdkit.Chem as Chem\n",
    "import pandas as pd\n",
    "import numpy as np\n",
    "import re"
   ]
  },
  {
   "cell_type": "code",
   "execution_count": null,
   "metadata": {},
   "outputs": [],
   "source": [
    "file = 'data/preprocessing/bindingdb.tsv'\n",
    "outputfile = 'data/preprocessing/cleaned_bindingdb.csv'"
   ]
  },
  {
   "cell_type": "code",
   "execution_count": null,
   "metadata": {},
   "outputs": [],
   "source": [
    "extra_columns_string = 'BindingDB Target Chain  Sequence\\tPDB ID(s) of Target Chain\\tUniProt (SwissProt) Recommended Name of Target Chain\\tUniProt (SwissProt) Entry Name of Target Chain\\tUniProt (SwissProt) Primary ID of Target Chain\\tUniProt (SwissProt) Secondary ID(s) of Target Chain\\tUniProt (SwissProt) Alternative ID(s) of Target Chain\\tUniProt (TrEMBL) Submitted Name of Target Chain\\tUniProt (TrEMBL) Entry Name of Target Chain\\tUniProt (TrEMBL) Primary ID of Target Chain\\tUniProt (TrEMBL) Secondary ID(s) of Target Chain\\tUniProt (TrEMBL) Alternative ID(s) of Target Chain'\n",
    "extra_columns = extra_columns_string.split('\\t')\n",
    "\n",
    "#columns to be used\n",
    "columns_keep = [\"BindingDB Reactant_set_id\", \"Ligand SMILES\",  \"Target Name Assigned by Curator or DataSource\", \"Ki (nM)\", \"Ki (nM)>or<\", \"IC50 (nM)\", \"IC50 (nM)>or<\", \"Kd (nM)>or<\", \"Kd (nM)\", \"EC50 (nM)\", \"EC50 (nM)>or<\", \"pH\", \"Temp (C)\", \"Number of Protein Chains in Target (>1 implies a multichain complex)\",'BindingDB Target Chain  Sequence']\n",
    "for i in range(1,19):\n",
    "    columns_keep.append(f'BindingDB Target Chain  Sequence.{i}')\n",
    "    \n",
    "#columns that need string replacing\n",
    "columns_to_replace = ['Ki (nM)', 'IC50 (nM)', 'Kd (nM)', 'EC50 (nM)']\n",
    "numeric_cols = columns_to_replace + ['BindingDB Reactant_set_id', 'Number of Protein Chains in Target (>1 implies a multichain complex)' ]"
   ]
  },
  {
   "cell_type": "code",
   "execution_count": null,
   "metadata": {},
   "outputs": [],
   "source": [
    "def add_column(df, columns):\n",
    "    for column in columns:\n",
    "        conditions = [\n",
    "            df[column].str.contains('<', regex=True, na = False),\n",
    "            df[column].str.contains('>', regex=True, na = False)\n",
    "        ]\n",
    "        choices = [ -1, 1]\n",
    "        df[f'{column}>or<'] = np.select(conditions, choices, default=0)\n"
   ]
  },
  {
   "cell_type": "code",
   "execution_count": null,
   "metadata": {},
   "outputs": [],
   "source": [
    "def convert_to_weight(smiles):\n",
    "    try:\n",
    "        m = Chem.MolFromSmiles(smiles)\n",
    "        return Descriptors.MolWt(m)\n",
    "    except:\n",
    "        return None"
   ]
  },
  {
   "cell_type": "code",
   "execution_count": null,
   "metadata": {},
   "outputs": [],
   "source": [
    "#columns that need to be shifted\n",
    "columns_for_shifting = ['Number of Protein Chains in Target (>1 implies a multichain complex)', 'BindingDB Target Chain  Sequence','PDB ID(s) of Target Chain']\n",
    "\n",
    "def shift(df, indexes, columns = columns_for_shifting):\n",
    "    for index in indexes:\n",
    "        for i in range(len(columns)-1):\n",
    "            value = df.loc[index, columns[i+1]]\n",
    "            df.loc[index, columns[i]] = value\n",
    "        "
   ]
  },
  {
   "cell_type": "code",
   "execution_count": null,
   "metadata": {},
   "outputs": [],
   "source": [
    "header = True\n",
    "df = pd.read_csv(file, sep = '\\t', chunksize=100000)\n",
    "for chunk in df:\n",
    "    #add -1 to <, 1 to > and else 0 to a new column for each of the columns to replace\n",
    "    add_column(chunk, columns_to_replace)\n",
    "        \n",
    "    #replace the symbols in the numeric files\n",
    "    for columns in columns_to_replace:\n",
    "        chunk[columns] = chunk[columns].str.replace('[><]', '')\n",
    "        chunk[columns] = chunk[columns].replace(r'^\\s*$', np.nan, regex=True)\n",
    "   \n",
    "    \n",
    "    #to_numeric for the numeric columns\n",
    "    chunk[numeric_cols] = chunk[numeric_cols].apply(pd.to_numeric, axis=1)\n",
    "    \n",
    "    #shifting the part where number of protein chains is null\n",
    "    if chunk[\"Number of Protein Chains in Target (>1 implies a multichain complex)\"].isnull().any():\n",
    "        indexes = chunk[chunk[\"Number of Protein Chains in Target (>1 implies a multichain complex)\"].isnull()]\n",
    "        shift(chunk, indexes.index)\n",
    "        \n",
    "    #drop unwanted columns\n",
    "    chunk = chunk[columns_keep]\n",
    "    \n",
    "    #calculate the molecular weight and drop the NaNs\n",
    "    chunk['MolWt'] = chunk['Ligand SMILES'].apply(convert_to_weight)\n",
    "    chunk = chunk[chunk['MolWt'].notna()]\n",
    "    \n",
    "#     output to csv\n",
    "    if header:\n",
    "        chunk.to_csv(outputfile)\n",
    "        header = False\n",
    "    else:\n",
    "        chunk.to_csv(outputfile, mode='a', header= None)\n",
    "\n",
    "    #melt the file using extra columns\n",
    "#     chunk = pd.melt(chunk, id_vars = extra_columns)\n"
   ]
  }
 ],
 "metadata": {
  "kernelspec": {
   "display_name": "Python 3",
   "language": "python",
   "name": "python3"
  },
  "language_info": {
   "codemirror_mode": {
    "name": "ipython",
    "version": 3
   },
   "file_extension": ".py",
   "mimetype": "text/x-python",
   "name": "python",
   "nbconvert_exporter": "python",
   "pygments_lexer": "ipython3",
   "version": "3.7.4"
  }
 },
 "nbformat": 4,
 "nbformat_minor": 2
}
